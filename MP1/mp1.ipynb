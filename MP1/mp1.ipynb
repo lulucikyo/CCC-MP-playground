{
 "cells": [
  {
   "cell_type": "code",
   "execution_count": 1,
   "id": "b575f66c",
   "metadata": {},
   "outputs": [
    {
     "data": {
      "application/vnd.jupyter.widget-view+json": {
       "model_id": "6c63744785374ea2a5d2f31101ab422b",
       "version_major": 2,
       "version_minor": 0
      },
      "text/plain": [
       "VBox()"
      ]
     },
     "metadata": {},
     "output_type": "display_data"
    },
    {
     "name": "stdout",
     "output_type": "stream",
     "text": [
      "Starting Spark application\n"
     ]
    },
    {
     "data": {
      "text/html": [
       "<table>\n",
       "<tr><th>ID</th><th>YARN Application ID</th><th>Kind</th><th>State</th><th>Spark UI</th><th>Driver log</th><th>Current session?</th></tr><tr><td>0</td><td>application_1623603323085_0001</td><td>pyspark</td><td>idle</td><td><a target=\"_blank\" href=\"http://ip-172-31-15-142.ec2.internal:20888/proxy/application_1623603323085_0001/\">Link</a></td><td><a target=\"_blank\" href=\"http://ip-172-31-0-76.ec2.internal:8042/node/containerlogs/container_1623603323085_0001_01_000001/livy\">Link</a></td><td>✔</td></tr></table>"
      ],
      "text/plain": [
       "<IPython.core.display.HTML object>"
      ]
     },
     "metadata": {},
     "output_type": "display_data"
    },
    {
     "data": {
      "application/vnd.jupyter.widget-view+json": {
       "model_id": "",
       "version_major": 2,
       "version_minor": 0
      },
      "text/plain": [
       "FloatProgress(value=0.0, bar_style='info', description='Progress:', layout=Layout(height='25px', width='50%'),…"
      ]
     },
     "metadata": {},
     "output_type": "display_data"
    },
    {
     "name": "stdout",
     "output_type": "stream",
     "text": [
      "SparkSession available as 'spark'.\n"
     ]
    },
    {
     "data": {
      "application/vnd.jupyter.widget-view+json": {
       "model_id": "",
       "version_major": 2,
       "version_minor": 0
      },
      "text/plain": [
       "FloatProgress(value=0.0, bar_style='info', description='Progress:', layout=Layout(height='25px', width='50%'),…"
      ]
     },
     "metadata": {},
     "output_type": "display_data"
    }
   ],
   "source": [
    "import argparse\n",
    "import logging\n",
    "from operator import add\n",
    "from random import random\n",
    "\n",
    "from pyspark.sql import SparkSession\n",
    "from pyspark.sql import functions as F\n",
    "from pyspark.sql.window import Window\n",
    "\n",
    "logger = logging.getLogger(__name__)\n",
    "logging.basicConfig(level=logging.INFO, format='%(levelname)s: %(message)s')\n",
    "\n",
    "### Initialize\n",
    "data_uri = \"s3://aws-logs-784082445748-us-east-1/elasticmapreduce/j-29WKE6APA5GV2/final_v2.csv\"\n",
    "spark = SparkSession.builder.appName(\"work1\").getOrCreate()\n",
    "df = spark.read.options(header=\"True\").csv(data_uri).cache()\n",
    "\n"
   ]
  },
  {
   "cell_type": "code",
   "execution_count": 1,
   "id": "af0c33ed",
   "metadata": {},
   "outputs": [
    {
     "data": {
      "application/vnd.jupyter.widget-view+json": {
       "model_id": "c724866072744afab885a43c343847a6",
       "version_major": 2,
       "version_minor": 0
      },
      "text/plain": [
       "VBox()"
      ]
     },
     "metadata": {},
     "output_type": "display_data"
    },
    {
     "name": "stdout",
     "output_type": "stream",
     "text": [
      "Starting Spark application\n"
     ]
    },
    {
     "ename": "KeyboardInterrupt",
     "evalue": "",
     "output_type": "error",
     "traceback": [
      "\u001b[0;31m---------------------------------------------------------------------------\u001b[0m",
      "\u001b[0;31mKeyboardInterrupt\u001b[0m                         Traceback (most recent call last)",
      "\u001b[0;32m<ipython-input-1-d82a5dbc6fb8>\u001b[0m in \u001b[0;36m<module>\u001b[0;34m\u001b[0m\n\u001b[0;32m----> 1\u001b[0;31m \u001b[0mget_ipython\u001b[0m\u001b[0;34m(\u001b[0m\u001b[0;34m)\u001b[0m\u001b[0;34m.\u001b[0m\u001b[0mrun_cell_magic\u001b[0m\u001b[0;34m(\u001b[0m\u001b[0;34m'spark'\u001b[0m\u001b[0;34m,\u001b[0m \u001b[0;34m''\u001b[0m\u001b[0;34m,\u001b[0m \u001b[0;34m'### G1.Q2 #####\\ndfq2 = df.groupby(\"UniqueCarrier\").agg(F.mean(\"ArrDelay\")) \\\\\\n        .orderBy(\"avg(ArrDelay)\").select(\"UniqueCarrier\", \"avg(ArrDelay)\") \\\\\\n        .take(10)\\n\\ndfq2\\n'\u001b[0m\u001b[0;34m)\u001b[0m\u001b[0;34m\u001b[0m\u001b[0;34m\u001b[0m\u001b[0m\n\u001b[0m",
      "\u001b[0;32m/opt/conda/lib/python3.7/site-packages/IPython/core/interactiveshell.py\u001b[0m in \u001b[0;36mrun_cell_magic\u001b[0;34m(self, magic_name, line, cell)\u001b[0m\n\u001b[1;32m   2397\u001b[0m             \u001b[0;32mwith\u001b[0m \u001b[0mself\u001b[0m\u001b[0;34m.\u001b[0m\u001b[0mbuiltin_trap\u001b[0m\u001b[0;34m:\u001b[0m\u001b[0;34m\u001b[0m\u001b[0;34m\u001b[0m\u001b[0m\n\u001b[1;32m   2398\u001b[0m                 \u001b[0margs\u001b[0m \u001b[0;34m=\u001b[0m \u001b[0;34m(\u001b[0m\u001b[0mmagic_arg_s\u001b[0m\u001b[0;34m,\u001b[0m \u001b[0mcell\u001b[0m\u001b[0;34m)\u001b[0m\u001b[0;34m\u001b[0m\u001b[0;34m\u001b[0m\u001b[0m\n\u001b[0;32m-> 2399\u001b[0;31m                 \u001b[0mresult\u001b[0m \u001b[0;34m=\u001b[0m \u001b[0mfn\u001b[0m\u001b[0;34m(\u001b[0m\u001b[0;34m*\u001b[0m\u001b[0margs\u001b[0m\u001b[0;34m,\u001b[0m \u001b[0;34m**\u001b[0m\u001b[0mkwargs\u001b[0m\u001b[0;34m)\u001b[0m\u001b[0;34m\u001b[0m\u001b[0;34m\u001b[0m\u001b[0m\n\u001b[0m\u001b[1;32m   2400\u001b[0m             \u001b[0;32mreturn\u001b[0m \u001b[0mresult\u001b[0m\u001b[0;34m\u001b[0m\u001b[0;34m\u001b[0m\u001b[0m\n\u001b[1;32m   2401\u001b[0m \u001b[0;34m\u001b[0m\u001b[0m\n",
      "\u001b[0;32m/opt/conda/lib/python3.7/site-packages/decorator.py\u001b[0m in \u001b[0;36mfun\u001b[0;34m(*args, **kw)\u001b[0m\n\u001b[1;32m    230\u001b[0m             \u001b[0;32mif\u001b[0m \u001b[0;32mnot\u001b[0m \u001b[0mkwsyntax\u001b[0m\u001b[0;34m:\u001b[0m\u001b[0;34m\u001b[0m\u001b[0;34m\u001b[0m\u001b[0m\n\u001b[1;32m    231\u001b[0m                 \u001b[0margs\u001b[0m\u001b[0;34m,\u001b[0m \u001b[0mkw\u001b[0m \u001b[0;34m=\u001b[0m \u001b[0mfix\u001b[0m\u001b[0;34m(\u001b[0m\u001b[0margs\u001b[0m\u001b[0;34m,\u001b[0m \u001b[0mkw\u001b[0m\u001b[0;34m,\u001b[0m \u001b[0msig\u001b[0m\u001b[0;34m)\u001b[0m\u001b[0;34m\u001b[0m\u001b[0;34m\u001b[0m\u001b[0m\n\u001b[0;32m--> 232\u001b[0;31m             \u001b[0;32mreturn\u001b[0m \u001b[0mcaller\u001b[0m\u001b[0;34m(\u001b[0m\u001b[0mfunc\u001b[0m\u001b[0;34m,\u001b[0m \u001b[0;34m*\u001b[0m\u001b[0;34m(\u001b[0m\u001b[0mextras\u001b[0m \u001b[0;34m+\u001b[0m \u001b[0margs\u001b[0m\u001b[0;34m)\u001b[0m\u001b[0;34m,\u001b[0m \u001b[0;34m**\u001b[0m\u001b[0mkw\u001b[0m\u001b[0;34m)\u001b[0m\u001b[0;34m\u001b[0m\u001b[0;34m\u001b[0m\u001b[0m\n\u001b[0m\u001b[1;32m    233\u001b[0m     \u001b[0mfun\u001b[0m\u001b[0;34m.\u001b[0m\u001b[0m__name__\u001b[0m \u001b[0;34m=\u001b[0m \u001b[0mfunc\u001b[0m\u001b[0;34m.\u001b[0m\u001b[0m__name__\u001b[0m\u001b[0;34m\u001b[0m\u001b[0;34m\u001b[0m\u001b[0m\n\u001b[1;32m    234\u001b[0m     \u001b[0mfun\u001b[0m\u001b[0;34m.\u001b[0m\u001b[0m__doc__\u001b[0m \u001b[0;34m=\u001b[0m \u001b[0mfunc\u001b[0m\u001b[0;34m.\u001b[0m\u001b[0m__doc__\u001b[0m\u001b[0;34m\u001b[0m\u001b[0;34m\u001b[0m\u001b[0m\n",
      "\u001b[0;32m/opt/conda/lib/python3.7/site-packages/IPython/core/magic.py\u001b[0m in \u001b[0;36m<lambda>\u001b[0;34m(f, *a, **k)\u001b[0m\n\u001b[1;32m    185\u001b[0m     \u001b[0;31m# but it's overkill for just that one bit of state.\u001b[0m\u001b[0;34m\u001b[0m\u001b[0;34m\u001b[0m\u001b[0;34m\u001b[0m\u001b[0m\n\u001b[1;32m    186\u001b[0m     \u001b[0;32mdef\u001b[0m \u001b[0mmagic_deco\u001b[0m\u001b[0;34m(\u001b[0m\u001b[0marg\u001b[0m\u001b[0;34m)\u001b[0m\u001b[0;34m:\u001b[0m\u001b[0;34m\u001b[0m\u001b[0;34m\u001b[0m\u001b[0m\n\u001b[0;32m--> 187\u001b[0;31m         \u001b[0mcall\u001b[0m \u001b[0;34m=\u001b[0m \u001b[0;32mlambda\u001b[0m \u001b[0mf\u001b[0m\u001b[0;34m,\u001b[0m \u001b[0;34m*\u001b[0m\u001b[0ma\u001b[0m\u001b[0;34m,\u001b[0m \u001b[0;34m**\u001b[0m\u001b[0mk\u001b[0m\u001b[0;34m:\u001b[0m \u001b[0mf\u001b[0m\u001b[0;34m(\u001b[0m\u001b[0;34m*\u001b[0m\u001b[0ma\u001b[0m\u001b[0;34m,\u001b[0m \u001b[0;34m**\u001b[0m\u001b[0mk\u001b[0m\u001b[0;34m)\u001b[0m\u001b[0;34m\u001b[0m\u001b[0;34m\u001b[0m\u001b[0m\n\u001b[0m\u001b[1;32m    188\u001b[0m \u001b[0;34m\u001b[0m\u001b[0m\n\u001b[1;32m    189\u001b[0m         \u001b[0;32mif\u001b[0m \u001b[0mcallable\u001b[0m\u001b[0;34m(\u001b[0m\u001b[0marg\u001b[0m\u001b[0;34m)\u001b[0m\u001b[0;34m:\u001b[0m\u001b[0;34m\u001b[0m\u001b[0;34m\u001b[0m\u001b[0m\n",
      "\u001b[0;32m/opt/conda/lib/python3.7/site-packages/sparkmagic/livyclientlib/exceptions.py\u001b[0m in \u001b[0;36mwrapped\u001b[0;34m(self, *args, **kwargs)\u001b[0m\n\u001b[1;32m     94\u001b[0m     \u001b[0;32mdef\u001b[0m \u001b[0mwrapped\u001b[0m\u001b[0;34m(\u001b[0m\u001b[0mself\u001b[0m\u001b[0;34m,\u001b[0m \u001b[0;34m*\u001b[0m\u001b[0margs\u001b[0m\u001b[0;34m,\u001b[0m \u001b[0;34m**\u001b[0m\u001b[0mkwargs\u001b[0m\u001b[0;34m)\u001b[0m\u001b[0;34m:\u001b[0m\u001b[0;34m\u001b[0m\u001b[0;34m\u001b[0m\u001b[0m\n\u001b[1;32m     95\u001b[0m         \u001b[0;32mtry\u001b[0m\u001b[0;34m:\u001b[0m\u001b[0;34m\u001b[0m\u001b[0;34m\u001b[0m\u001b[0m\n\u001b[0;32m---> 96\u001b[0;31m             \u001b[0mout\u001b[0m \u001b[0;34m=\u001b[0m \u001b[0mf\u001b[0m\u001b[0;34m(\u001b[0m\u001b[0mself\u001b[0m\u001b[0;34m,\u001b[0m \u001b[0;34m*\u001b[0m\u001b[0margs\u001b[0m\u001b[0;34m,\u001b[0m \u001b[0;34m**\u001b[0m\u001b[0mkwargs\u001b[0m\u001b[0;34m)\u001b[0m\u001b[0;34m\u001b[0m\u001b[0;34m\u001b[0m\u001b[0m\n\u001b[0m\u001b[1;32m     97\u001b[0m         \u001b[0;32mexcept\u001b[0m \u001b[0mException\u001b[0m \u001b[0;32mas\u001b[0m \u001b[0me\u001b[0m\u001b[0;34m:\u001b[0m\u001b[0;34m\u001b[0m\u001b[0;34m\u001b[0m\u001b[0m\n\u001b[1;32m     98\u001b[0m             \u001b[0mself\u001b[0m\u001b[0;34m.\u001b[0m\u001b[0mlogger\u001b[0m\u001b[0;34m.\u001b[0m\u001b[0merror\u001b[0m\u001b[0;34m(\u001b[0m\u001b[0;34mu\"ENCOUNTERED AN INTERNAL ERROR: {}\\n\\tTraceback:\\n{}\"\u001b[0m\u001b[0;34m.\u001b[0m\u001b[0mformat\u001b[0m\u001b[0;34m(\u001b[0m\u001b[0me\u001b[0m\u001b[0;34m,\u001b[0m \u001b[0mtraceback\u001b[0m\u001b[0;34m.\u001b[0m\u001b[0mformat_exc\u001b[0m\u001b[0;34m(\u001b[0m\u001b[0;34m)\u001b[0m\u001b[0;34m)\u001b[0m\u001b[0;34m)\u001b[0m\u001b[0;34m\u001b[0m\u001b[0;34m\u001b[0m\u001b[0m\n",
      "\u001b[0;32m/opt/conda/lib/python3.7/site-packages/sparkmagic/livyclientlib/exceptions.py\u001b[0m in \u001b[0;36mwrapped\u001b[0;34m(self, *args, **kwargs)\u001b[0m\n\u001b[1;32m     70\u001b[0m     \u001b[0;32mdef\u001b[0m \u001b[0mwrapped\u001b[0m\u001b[0;34m(\u001b[0m\u001b[0mself\u001b[0m\u001b[0;34m,\u001b[0m \u001b[0;34m*\u001b[0m\u001b[0margs\u001b[0m\u001b[0;34m,\u001b[0m \u001b[0;34m**\u001b[0m\u001b[0mkwargs\u001b[0m\u001b[0;34m)\u001b[0m\u001b[0;34m:\u001b[0m\u001b[0;34m\u001b[0m\u001b[0;34m\u001b[0m\u001b[0m\n\u001b[1;32m     71\u001b[0m         \u001b[0;32mtry\u001b[0m\u001b[0;34m:\u001b[0m\u001b[0;34m\u001b[0m\u001b[0;34m\u001b[0m\u001b[0m\n\u001b[0;32m---> 72\u001b[0;31m             \u001b[0mout\u001b[0m \u001b[0;34m=\u001b[0m \u001b[0mf\u001b[0m\u001b[0;34m(\u001b[0m\u001b[0mself\u001b[0m\u001b[0;34m,\u001b[0m \u001b[0;34m*\u001b[0m\u001b[0margs\u001b[0m\u001b[0;34m,\u001b[0m \u001b[0;34m**\u001b[0m\u001b[0mkwargs\u001b[0m\u001b[0;34m)\u001b[0m\u001b[0;34m\u001b[0m\u001b[0;34m\u001b[0m\u001b[0m\n\u001b[0m\u001b[1;32m     73\u001b[0m         \u001b[0;32mexcept\u001b[0m \u001b[0mexceptions_to_handle\u001b[0m \u001b[0;32mas\u001b[0m \u001b[0merr\u001b[0m\u001b[0;34m:\u001b[0m\u001b[0;34m\u001b[0m\u001b[0;34m\u001b[0m\u001b[0m\n\u001b[1;32m     74\u001b[0m             \u001b[0;31m# Do not log! as some messages may contain private client information\u001b[0m\u001b[0;34m\u001b[0m\u001b[0;34m\u001b[0m\u001b[0;34m\u001b[0m\u001b[0m\n",
      "\u001b[0;32m/opt/conda/lib/python3.7/site-packages/sparkmagic/kernels/kernelmagics.py\u001b[0m in \u001b[0;36mspark\u001b[0;34m(self, line, cell, local_ns)\u001b[0m\n\u001b[1;32m    231\u001b[0m     \u001b[0;34m@\u001b[0m\u001b[0mhandle_expected_exceptions\u001b[0m\u001b[0;34m\u001b[0m\u001b[0;34m\u001b[0m\u001b[0m\n\u001b[1;32m    232\u001b[0m     \u001b[0;32mdef\u001b[0m \u001b[0mspark\u001b[0m\u001b[0;34m(\u001b[0m\u001b[0mself\u001b[0m\u001b[0;34m,\u001b[0m \u001b[0mline\u001b[0m\u001b[0;34m,\u001b[0m \u001b[0mcell\u001b[0m\u001b[0;34m=\u001b[0m\u001b[0;34m\"\"\u001b[0m\u001b[0;34m,\u001b[0m \u001b[0mlocal_ns\u001b[0m\u001b[0;34m=\u001b[0m\u001b[0;32mNone\u001b[0m\u001b[0;34m)\u001b[0m\u001b[0;34m:\u001b[0m\u001b[0;34m\u001b[0m\u001b[0;34m\u001b[0m\u001b[0m\n\u001b[0;32m--> 233\u001b[0;31m         \u001b[0;32mif\u001b[0m \u001b[0mself\u001b[0m\u001b[0;34m.\u001b[0m\u001b[0m_do_not_call_start_session\u001b[0m\u001b[0;34m(\u001b[0m\u001b[0;34mu\"\"\u001b[0m\u001b[0;34m)\u001b[0m\u001b[0;34m:\u001b[0m\u001b[0;34m\u001b[0m\u001b[0;34m\u001b[0m\u001b[0m\n\u001b[0m\u001b[1;32m    234\u001b[0m             \u001b[0margs\u001b[0m \u001b[0;34m=\u001b[0m \u001b[0mparse_argstring_or_throw\u001b[0m\u001b[0;34m(\u001b[0m\u001b[0mself\u001b[0m\u001b[0;34m.\u001b[0m\u001b[0mspark\u001b[0m\u001b[0;34m,\u001b[0m \u001b[0mline\u001b[0m\u001b[0;34m)\u001b[0m\u001b[0;34m\u001b[0m\u001b[0;34m\u001b[0m\u001b[0m\n\u001b[1;32m    235\u001b[0m \u001b[0;34m\u001b[0m\u001b[0m\n",
      "\u001b[0;32m/opt/conda/lib/python3.7/site-packages/decorator.py\u001b[0m in \u001b[0;36mfun\u001b[0;34m(*args, **kw)\u001b[0m\n\u001b[1;32m    230\u001b[0m             \u001b[0;32mif\u001b[0m \u001b[0;32mnot\u001b[0m \u001b[0mkwsyntax\u001b[0m\u001b[0;34m:\u001b[0m\u001b[0;34m\u001b[0m\u001b[0;34m\u001b[0m\u001b[0m\n\u001b[1;32m    231\u001b[0m                 \u001b[0margs\u001b[0m\u001b[0;34m,\u001b[0m \u001b[0mkw\u001b[0m \u001b[0;34m=\u001b[0m \u001b[0mfix\u001b[0m\u001b[0;34m(\u001b[0m\u001b[0margs\u001b[0m\u001b[0;34m,\u001b[0m \u001b[0mkw\u001b[0m\u001b[0;34m,\u001b[0m \u001b[0msig\u001b[0m\u001b[0;34m)\u001b[0m\u001b[0;34m\u001b[0m\u001b[0;34m\u001b[0m\u001b[0m\n\u001b[0;32m--> 232\u001b[0;31m             \u001b[0;32mreturn\u001b[0m \u001b[0mcaller\u001b[0m\u001b[0;34m(\u001b[0m\u001b[0mfunc\u001b[0m\u001b[0;34m,\u001b[0m \u001b[0;34m*\u001b[0m\u001b[0;34m(\u001b[0m\u001b[0mextras\u001b[0m \u001b[0;34m+\u001b[0m \u001b[0margs\u001b[0m\u001b[0;34m)\u001b[0m\u001b[0;34m,\u001b[0m \u001b[0;34m**\u001b[0m\u001b[0mkw\u001b[0m\u001b[0;34m)\u001b[0m\u001b[0;34m\u001b[0m\u001b[0;34m\u001b[0m\u001b[0m\n\u001b[0m\u001b[1;32m    233\u001b[0m     \u001b[0mfun\u001b[0m\u001b[0;34m.\u001b[0m\u001b[0m__name__\u001b[0m \u001b[0;34m=\u001b[0m \u001b[0mfunc\u001b[0m\u001b[0;34m.\u001b[0m\u001b[0m__name__\u001b[0m\u001b[0;34m\u001b[0m\u001b[0;34m\u001b[0m\u001b[0m\n\u001b[1;32m    234\u001b[0m     \u001b[0mfun\u001b[0m\u001b[0;34m.\u001b[0m\u001b[0m__doc__\u001b[0m \u001b[0;34m=\u001b[0m \u001b[0mfunc\u001b[0m\u001b[0;34m.\u001b[0m\u001b[0m__doc__\u001b[0m\u001b[0;34m\u001b[0m\u001b[0;34m\u001b[0m\u001b[0m\n",
      "\u001b[0;32m/opt/conda/lib/python3.7/site-packages/IPython/core/magic.py\u001b[0m in \u001b[0;36m<lambda>\u001b[0;34m(f, *a, **k)\u001b[0m\n\u001b[1;32m    185\u001b[0m     \u001b[0;31m# but it's overkill for just that one bit of state.\u001b[0m\u001b[0;34m\u001b[0m\u001b[0;34m\u001b[0m\u001b[0;34m\u001b[0m\u001b[0m\n\u001b[1;32m    186\u001b[0m     \u001b[0;32mdef\u001b[0m \u001b[0mmagic_deco\u001b[0m\u001b[0;34m(\u001b[0m\u001b[0marg\u001b[0m\u001b[0;34m)\u001b[0m\u001b[0;34m:\u001b[0m\u001b[0;34m\u001b[0m\u001b[0;34m\u001b[0m\u001b[0m\n\u001b[0;32m--> 187\u001b[0;31m         \u001b[0mcall\u001b[0m \u001b[0;34m=\u001b[0m \u001b[0;32mlambda\u001b[0m \u001b[0mf\u001b[0m\u001b[0;34m,\u001b[0m \u001b[0;34m*\u001b[0m\u001b[0ma\u001b[0m\u001b[0;34m,\u001b[0m \u001b[0;34m**\u001b[0m\u001b[0mk\u001b[0m\u001b[0;34m:\u001b[0m \u001b[0mf\u001b[0m\u001b[0;34m(\u001b[0m\u001b[0;34m*\u001b[0m\u001b[0ma\u001b[0m\u001b[0;34m,\u001b[0m \u001b[0;34m**\u001b[0m\u001b[0mk\u001b[0m\u001b[0;34m)\u001b[0m\u001b[0;34m\u001b[0m\u001b[0;34m\u001b[0m\u001b[0m\n\u001b[0m\u001b[1;32m    188\u001b[0m \u001b[0;34m\u001b[0m\u001b[0m\n\u001b[1;32m    189\u001b[0m         \u001b[0;32mif\u001b[0m \u001b[0mcallable\u001b[0m\u001b[0;34m(\u001b[0m\u001b[0marg\u001b[0m\u001b[0;34m)\u001b[0m\u001b[0;34m:\u001b[0m\u001b[0;34m\u001b[0m\u001b[0;34m\u001b[0m\u001b[0m\n",
      "\u001b[0;32m/opt/conda/lib/python3.7/site-packages/sparkmagic/kernels/kernelmagics.py\u001b[0m in \u001b[0;36m_do_not_call_start_session\u001b[0;34m(self, line, cell, local_ns)\u001b[0m\n\u001b[1;32m    354\u001b[0m \u001b[0;34m\u001b[0m\u001b[0m\n\u001b[1;32m    355\u001b[0m             \u001b[0;32mtry\u001b[0m\u001b[0;34m:\u001b[0m\u001b[0;34m\u001b[0m\u001b[0;34m\u001b[0m\u001b[0m\n\u001b[0;32m--> 356\u001b[0;31m                 \u001b[0mself\u001b[0m\u001b[0;34m.\u001b[0m\u001b[0mspark_controller\u001b[0m\u001b[0;34m.\u001b[0m\u001b[0madd_session\u001b[0m\u001b[0;34m(\u001b[0m\u001b[0mself\u001b[0m\u001b[0;34m.\u001b[0m\u001b[0msession_name\u001b[0m\u001b[0;34m,\u001b[0m \u001b[0mself\u001b[0m\u001b[0;34m.\u001b[0m\u001b[0mendpoint\u001b[0m\u001b[0;34m,\u001b[0m \u001b[0mskip\u001b[0m\u001b[0;34m,\u001b[0m \u001b[0mproperties\u001b[0m\u001b[0;34m)\u001b[0m\u001b[0;34m\u001b[0m\u001b[0;34m\u001b[0m\u001b[0m\n\u001b[0m\u001b[1;32m    357\u001b[0m             \u001b[0;32mexcept\u001b[0m \u001b[0mException\u001b[0m \u001b[0;32mas\u001b[0m \u001b[0me\u001b[0m\u001b[0;34m:\u001b[0m\u001b[0;34m\u001b[0m\u001b[0;34m\u001b[0m\u001b[0m\n\u001b[1;32m    358\u001b[0m                 \u001b[0mself\u001b[0m\u001b[0;34m.\u001b[0m\u001b[0mfatal_error\u001b[0m \u001b[0;34m=\u001b[0m \u001b[0;32mTrue\u001b[0m\u001b[0;34m\u001b[0m\u001b[0;34m\u001b[0m\u001b[0m\n",
      "\u001b[0;32m/opt/conda/lib/python3.7/site-packages/sparkmagic/livyclientlib/sparkcontroller.py\u001b[0m in \u001b[0;36madd_session\u001b[0;34m(self, name, endpoint, skip_if_exists, properties)\u001b[0m\n\u001b[1;32m    121\u001b[0m         \u001b[0msession\u001b[0m \u001b[0;34m=\u001b[0m \u001b[0mself\u001b[0m\u001b[0;34m.\u001b[0m\u001b[0m_livy_session\u001b[0m\u001b[0;34m(\u001b[0m\u001b[0mhttp_client\u001b[0m\u001b[0;34m,\u001b[0m \u001b[0mproperties\u001b[0m\u001b[0;34m,\u001b[0m \u001b[0mself\u001b[0m\u001b[0;34m.\u001b[0m\u001b[0mipython_display\u001b[0m\u001b[0;34m)\u001b[0m\u001b[0;34m\u001b[0m\u001b[0;34m\u001b[0m\u001b[0m\n\u001b[1;32m    122\u001b[0m         \u001b[0mself\u001b[0m\u001b[0;34m.\u001b[0m\u001b[0msession_manager\u001b[0m\u001b[0;34m.\u001b[0m\u001b[0madd_session\u001b[0m\u001b[0;34m(\u001b[0m\u001b[0mname\u001b[0m\u001b[0;34m,\u001b[0m \u001b[0msession\u001b[0m\u001b[0;34m)\u001b[0m\u001b[0;34m\u001b[0m\u001b[0;34m\u001b[0m\u001b[0m\n\u001b[0;32m--> 123\u001b[0;31m         \u001b[0msession\u001b[0m\u001b[0;34m.\u001b[0m\u001b[0mstart\u001b[0m\u001b[0;34m(\u001b[0m\u001b[0;34m)\u001b[0m\u001b[0;34m\u001b[0m\u001b[0;34m\u001b[0m\u001b[0m\n\u001b[0m\u001b[1;32m    124\u001b[0m         \u001b[0mself\u001b[0m\u001b[0;34m.\u001b[0m\u001b[0mpersist_app_id_to_fs\u001b[0m\u001b[0;34m(\u001b[0m\u001b[0mname\u001b[0m\u001b[0;34m)\u001b[0m\u001b[0;34m\u001b[0m\u001b[0;34m\u001b[0m\u001b[0m\n\u001b[1;32m    125\u001b[0m \u001b[0;34m\u001b[0m\u001b[0m\n",
      "\u001b[0;32m/opt/conda/lib/python3.7/site-packages/sparkmagic/livyclientlib/livysession.py\u001b[0m in \u001b[0;36mstart\u001b[0;34m(self)\u001b[0m\n\u001b[1;32m    146\u001b[0m             \u001b[0;31m# We wait for livy_session_startup_timeout_seconds() for the session to start up.\u001b[0m\u001b[0;34m\u001b[0m\u001b[0;34m\u001b[0m\u001b[0;34m\u001b[0m\u001b[0m\n\u001b[1;32m    147\u001b[0m             \u001b[0;32mtry\u001b[0m\u001b[0;34m:\u001b[0m\u001b[0;34m\u001b[0m\u001b[0;34m\u001b[0m\u001b[0m\n\u001b[0;32m--> 148\u001b[0;31m                 \u001b[0mself\u001b[0m\u001b[0;34m.\u001b[0m\u001b[0mwait_for_idle\u001b[0m\u001b[0;34m(\u001b[0m\u001b[0mconf\u001b[0m\u001b[0;34m.\u001b[0m\u001b[0mlivy_session_startup_timeout_seconds\u001b[0m\u001b[0;34m(\u001b[0m\u001b[0;34m)\u001b[0m\u001b[0;34m)\u001b[0m\u001b[0;34m\u001b[0m\u001b[0;34m\u001b[0m\u001b[0m\n\u001b[0m\u001b[1;32m    149\u001b[0m             \u001b[0;32mexcept\u001b[0m \u001b[0mLivyClientTimeoutException\u001b[0m\u001b[0;34m:\u001b[0m\u001b[0;34m\u001b[0m\u001b[0;34m\u001b[0m\u001b[0m\n\u001b[1;32m    150\u001b[0m                 raise LivyClientTimeoutException(u\"Session {} did not start up in {} seconds.\"\n",
      "\u001b[0;32m/opt/conda/lib/python3.7/site-packages/sparkmagic/livyclientlib/livysession.py\u001b[0m in \u001b[0;36mwait_for_idle\u001b[0;34m(self, seconds_to_wait)\u001b[0m\n\u001b[1;32m    276\u001b[0m             self.logger.debug(u\"Session {} in state {}. Sleeping {} seconds.\"\n\u001b[1;32m    277\u001b[0m                               .format(self.id, self.status, sleep_time))\n\u001b[0;32m--> 278\u001b[0;31m             \u001b[0msleep\u001b[0m\u001b[0;34m(\u001b[0m\u001b[0msleep_time\u001b[0m\u001b[0;34m)\u001b[0m\u001b[0;34m\u001b[0m\u001b[0;34m\u001b[0m\u001b[0m\n\u001b[0m\u001b[1;32m    279\u001b[0m             \u001b[0mseconds_to_wait\u001b[0m \u001b[0;34m-=\u001b[0m \u001b[0mtime\u001b[0m\u001b[0;34m(\u001b[0m\u001b[0;34m)\u001b[0m \u001b[0;34m-\u001b[0m \u001b[0mstart_time\u001b[0m\u001b[0;34m\u001b[0m\u001b[0;34m\u001b[0m\u001b[0m\n\u001b[1;32m    280\u001b[0m \u001b[0;34m\u001b[0m\u001b[0m\n",
      "\u001b[0;31mKeyboardInterrupt\u001b[0m: "
     ]
    }
   ],
   "source": [
    "### G1.Q2 #####\n",
    "dfq2 = df.groupby(\"UniqueCarrier\").agg(F.mean(\"ArrDelay\")) \\\n",
    "        .orderBy(\"avg(ArrDelay)\").select(\"UniqueCarrier\", \"avg(ArrDelay)\") \\\n",
    "        .take(10)\n",
    "\n",
    "dfq2"
   ]
  },
  {
   "cell_type": "code",
   "execution_count": 17,
   "id": "a656cb67",
   "metadata": {},
   "outputs": [],
   "source": [
    "def run_g1_3():\n",
    "    dfq3 = df.groupby(\"DayOfWeek\").agg(F.mean(\"ArrDelay\")) \\\n",
    "             .orderBy(\"avg(ArrDelay)\").select(\"DayOfWeek\", \"avg(ArrDelay)\")\n",
    "    return(dfq3)\n",
    "    \n",
    "dfq3 = run_g1_3()\n",
    "dfq3.show()\n",
    "\n",
    "ans_g1_3 = dfq3.collect()\n",
    "print(ans_g1_3)\n",
    "\n",
    "import boto3\n",
    "client = boto3.client('dynamodb', region_name='us-east-1')\n",
    "\n",
    "for entry in ans_g1_3:\n",
    "    print(entry[0], entry[1])\n",
    "    client.put_item(\n",
    "        TableName=\"table_g1_3\",\n",
    "        Item = {\n",
    "            'DayOfWeek':{\"N\":entry[0]},\n",
    "            'AvgDelay': {\"S\":str(entry[1])}\n",
    "        })"
   ]
  },
  {
   "cell_type": "code",
   "execution_count": 11,
   "id": "1a84714c",
   "metadata": {},
   "outputs": [
    {
     "data": {
      "application/vnd.jupyter.widget-view+json": {
       "model_id": "2a7643b8b8c54830b9105979740ee20a",
       "version_major": 2,
       "version_minor": 0
      },
      "text/plain": [
       "VBox()"
      ]
     },
     "metadata": {},
     "output_type": "display_data"
    },
    {
     "data": {
      "application/vnd.jupyter.widget-view+json": {
       "model_id": "",
       "version_major": 2,
       "version_minor": 0
      },
      "text/plain": [
       "FloatProgress(value=0.0, bar_style='info', description='Progress:', layout=Layout(height='25px', width='50%'),…"
      ]
     },
     "metadata": {},
     "output_type": "display_data"
    },
    {
     "name": "stdout",
     "output_type": "stream",
     "text": [
      "+------+-------------+-------------------+----+\n",
      "|Origin|UniqueCarrier|      avg(DepDelay)|rank|\n",
      "+------+-------------+-------------------+----+\n",
      "|   IAH|           NW| 3.5155891221954794|   1|\n",
      "|   IAH|       PA (1)| 3.9015834348355662|   2|\n",
      "|   IAH|           PI| 3.9521674140508223|   3|\n",
      "|   IAH|           US|  5.029792044839336|   4|\n",
      "|   IAH|           F9|  5.549463301421526|   5|\n",
      "|   IAH|           AA|  5.616926765989229|   6|\n",
      "|   IAH|           TW|  6.027507886435331|   7|\n",
      "|   IAH|           WN|  6.213108817671555|   8|\n",
      "|   IAH|           OO|  6.583271802444827|   9|\n",
      "|   IAH|           MQ|  6.709770114942529|  10|\n",
      "|   CMI|           OH| 0.6120049504950495|   1|\n",
      "|   CMI|           US|  1.824410452517527|   2|\n",
      "|   CMI|           TW| 3.7445887445887447|   3|\n",
      "|   CMI|           PI|  4.369928400954654|   4|\n",
      "|   CMI|           DH|  6.080160320641283|   5|\n",
      "|   CMI|           EV|  6.665137614678899|   6|\n",
      "|   CMI|           MQ| 7.9927815501315225|   7|\n",
      "|   MIA|           9E|-3.6666666666666665|   1|\n",
      "|   MIA|           EV| 1.2026431718061674|   2|\n",
      "|   MIA|           TZ|  1.782243551289742|   3|\n",
      "|   MIA|           XE|  1.862663906142167|   4|\n",
      "|   MIA|       PA (1)| 4.0265078920734725|   5|\n",
      "|   MIA|           NW|  4.423477675861051|   6|\n",
      "|   MIA|           US|  6.018652298376823|   7|\n",
      "|   MIA|           UA|  6.808275094316285|   8|\n",
      "|   MIA|       ML (1)|  7.512145748987854|   9|\n",
      "|   MIA|           PI| 7.9503699136868065|  10|\n",
      "|   BWI|           F9| 0.7464929859719439|   1|\n",
      "|   BWI|       PA (1)|  4.761904761904762|   2|\n",
      "|   BWI|           CO|  5.113806228906936|   3|\n",
      "|   BWI|           YV|  5.504665629860031|   4|\n",
      "|   BWI|           NW|  5.655729477085228|   5|\n",
      "|   BWI|           AA|  5.913443851481776|   6|\n",
      "|   BWI|           9E|        7.220703125|   7|\n",
      "|   BWI|           US|  7.461676414515138|   8|\n",
      "|   BWI|           DL|   7.64112716551741|   9|\n",
      "|   BWI|           UA|  7.670814279578586|  10|\n",
      "|   SFO|           TZ| 3.9351390744564556|   1|\n",
      "|   SFO|           MQ|  4.782694005690179|   2|\n",
      "|   SFO|           F9|  5.155880905511811|   3|\n",
      "|   SFO|       PA (1)|  5.283914272256241|   4|\n",
      "|   SFO|           NW|   5.71754840543584|   5|\n",
      "|   SFO|           PS|  6.256748428448169|   6|\n",
      "|   SFO|           DL|   6.51247507146694|   7|\n",
      "|   SFO|           CO|  7.047356540556675|   8|\n",
      "|   SFO|           US|  7.479512683369303|   9|\n",
      "|   SFO|           TW|  7.763070692194404|  10|\n",
      "|   LAX|           MQ| 2.3999781429195917|   1|\n",
      "|   LAX|           OO|  4.214091664994122|   2|\n",
      "|   LAX|           FL|  4.687786465354543|   3|\n",
      "|   LAX|           TZ|  4.758883883883884|   4|\n",
      "|   LAX|           PS|  4.805362462760676|   5|\n",
      "|   LAX|           NW|  5.092927555814882|   6|\n",
      "|   LAX|           F9|  5.721227898904436|   7|\n",
      "|   LAX|           HA|  5.817644661776691|   8|\n",
      "|   LAX|           YV|  6.036279069767442|   9|\n",
      "|   LAX|           US|  6.729442774794305|  10|\n",
      "+------+-------------+-------------------+----+"
     ]
    }
   ],
   "source": [
    "def run_g2_1():\n",
    "    dfq1 = df.groupby(\"Origin\", \"UniqueCarrier\").agg(F.mean(\"DepDelay\"))\n",
    "    window = Window.partitionBy(dfq1[\"Origin\"]).orderBy(dfq1[\"avg(DepDelay)\"])\n",
    "    dfq1 = dfq1.select(\"*\", F.rank().over(window).alias(\"rank\")) \\\n",
    "        .filter(F.col(\"rank\")<=10)\n",
    "    \n",
    "    dfq1.where(dfq1[\"Origin\"].isin('CMI','BWI','MIA','LAX','IAH','SFO')).show(60)\n",
    "    \n",
    "    \n",
    "run_g2_1()"
   ]
  },
  {
   "cell_type": "code",
   "execution_count": 86,
   "id": "a7cf6e99",
   "metadata": {},
   "outputs": [
    {
     "data": {
      "application/vnd.jupyter.widget-view+json": {
       "model_id": "23d300ef44e1431b8ed25779a5024762",
       "version_major": 2,
       "version_minor": 0
      },
      "text/plain": [
       "VBox()"
      ]
     },
     "metadata": {},
     "output_type": "display_data"
    },
    {
     "data": {
      "application/vnd.jupyter.widget-view+json": {
       "model_id": "",
       "version_major": 2,
       "version_minor": 0
      },
      "text/plain": [
       "FloatProgress(value=0.0, bar_style='info', description='Progress:', layout=Layout(height='25px', width='50%'),…"
      ]
     },
     "metadata": {},
     "output_type": "display_data"
    },
    {
     "name": "stdout",
     "output_type": "stream",
     "text": [
      "+------+----+-------------------+----+\n",
      "|Origin|Dest|      avg(DepDelay)|rank|\n",
      "+------+----+-------------------+----+\n",
      "|   IAH| MSN|               -2.0|   1|\n",
      "|   IAH| MLI|               -1.0|   2|\n",
      "|   IAH| AGS|-0.6172972972972973|   3|\n",
      "|   IAH| EFD| 1.8877082136703045|   4|\n",
      "|   IAH| HOU|  2.172036985149902|   5|\n",
      "|   IAH| JAC| 2.4226190476190474|   6|\n",
      "|   IAH| MTJ|   2.90251572327044|   7|\n",
      "|   IAH| RNO| 3.2272831838049227|   8|\n",
      "|   IAH| GUC| 3.5373737373737373|   9|\n",
      "|   IAH| BPT| 3.5995325282430852|  10|\n",
      "|   CMI| PIT| 1.1078260869565217|   1|\n",
      "|   CMI| CVG|  1.902127659574468|   2|\n",
      "|   CMI| DAY| 2.9280490681764566|   3|\n",
      "|   CMI| PIA|  3.412568306010929|   4|\n",
      "|   CMI| STL|  3.841726618705036|   5|\n",
      "|   CMI| DFW|  5.978073610023492|   6|\n",
      "|   CMI| ATL|  6.665137614678899|   7|\n",
      "|   CMI| ORD|  8.163503649635036|   8|\n",
      "|   MIA| SAN|  1.710382513661202|   1|\n",
      "|   MIA| BUF|                2.0|   2|\n",
      "|   MIA| SLC| 2.4107883817427385|   3|\n",
      "|   MIA| HOU| 2.8884911894273126|   4|\n",
      "|   MIA| ISP| 3.6491228070175437|   5|\n",
      "|   MIA| MEM| 3.6863274141933866|   6|\n",
      "|   MIA| GNV| 3.9606854838709675|   7|\n",
      "|   MIA| PSE|  3.975845410628019|   8|\n",
      "|   MIA| TLH|  4.234641638225256|   9|\n",
      "|   MIA| MCI|  4.612244897959184|  10|\n",
      "|   BWI| MLB|  1.161473087818697|   1|\n",
      "|   BWI| DAB| 1.5084745762711864|   2|\n",
      "|   BWI| SRQ| 1.5500264690312335|   3|\n",
      "|   BWI| IAD| 1.7972027972027973|   4|\n",
      "|   BWI| UCA| 3.3259031514219832|   5|\n",
      "|   BWI| CHO|  3.744927536231884|   6|\n",
      "|   BWI| BGM| 3.7951339915373765|   7|\n",
      "|   BWI| DCA| 3.9706422018348624|   8|\n",
      "|   BWI| GSP|  4.192834562697576|   9|\n",
      "|   BWI| SJU| 4.2033967253127225|  10|\n",
      "|   SFO| SDF|              -10.0|   1|\n",
      "|   SFO| MSO|               -4.0|   2|\n",
      "|   SFO| LGA|-1.7575757575757576|   3|\n",
      "|   SFO| PIE|-1.3410404624277457|   4|\n",
      "|   SFO| OAK|-0.8137071651090343|   5|\n",
      "|   SFO| FAR|                0.0|   6|\n",
      "|   SFO| BNA| 2.3792093704245976|   7|\n",
      "|   SFO| MEM| 3.2624155910761603|   8|\n",
      "|   SFO| SJC|  3.985613917698227|   9|\n",
      "|   SFO| MKE| 3.9880277252678007|  10|\n",
      "|   LAX| SDF|              -16.0|   1|\n",
      "|   LAX| LAX|               -2.0|   2|\n",
      "|   LAX| BZN|-0.7272727272727273|   3|\n",
      "|   LAX| MAF|                0.0|   4|\n",
      "|   LAX| MFE| 1.1775147928994083|   5|\n",
      "|   LAX| IYK| 1.2698247440569148|   6|\n",
      "|   LAX| MEM|  1.867979435444757|   7|\n",
      "|   LAX| PIE| 1.9262086513994912|   8|\n",
      "|   LAX| SNA|  2.094491839762611|   9|\n",
      "|   LAX| SBA|  2.274377130868083|  10|\n",
      "+------+----+-------------------+----+"
     ]
    }
   ],
   "source": [
    "def run_g2_2():\n",
    "    dfq2 = df.groupby(\"Origin\", \"Dest\").agg(F.mean(\"DepDelay\"))\n",
    "    window = Window.partitionBy(dfq2[\"Origin\"]).orderBy(dfq2[\"avg(DepDelay)\"])\n",
    "    dfq2 = dfq2.select(\"*\", F.rank().over(window).alias(\"rank\")).filter(F.col(\"rank\")<=10)\n",
    "    \n",
    "    dfq2.filter(dfq2[\"Origin\"].isin('CMI','BWI','MIA','LAX','IAH','SFO')).show(60)\n",
    "    \n",
    "    \n",
    "run_g2_2()"
   ]
  },
  {
   "cell_type": "code",
   "execution_count": 41,
   "id": "c3b650db",
   "metadata": {},
   "outputs": [],
   "source": [
    "dfq4 = df.groupby(\"Origin\", \"Dest\").agg(F.mean(\"ArrDelay\"))\n",
    "dfq4.filter(F.concat(F.col(\"Origin\"),F.col(\"Dest\")) \\\n",
    "            .isin(\"CMIORD\",\"INDCMH\",\"DFWIAH\",\"LAXSFO\",\"JFKLAX\",\"ATLPHX\")).show()\n",
    "print(dfq4.count())\n",
    "\n",
    "import boto3\n",
    "client = boto3.client('dynamodb', region_name='us-east-1')\n",
    "\n",
    "for entry in dfq4.rdd.collect():\n",
    "    client.put_item(\n",
    "        TableName=\"table_g2_4\",\n",
    "        Item = {\n",
    "            \"airport\":{\"S\":entry[0]+\"-\"+entry[1]},\n",
    "            \"avgDelay\":{\"N\":str(entry[2])}\n",
    "        })"
   ]
  },
  {
   "cell_type": "code",
   "execution_count": 2,
   "id": "e3d29b64",
   "metadata": {},
   "outputs": [
    {
     "data": {
      "application/vnd.jupyter.widget-view+json": {
       "model_id": "67a9f78524ce42f7bf6a74c26ebc4c54",
       "version_major": 2,
       "version_minor": 0
      },
      "text/plain": [
       "VBox()"
      ]
     },
     "metadata": {},
     "output_type": "display_data"
    },
    {
     "data": {
      "application/vnd.jupyter.widget-view+json": {
       "model_id": "",
       "version_major": 2,
       "version_minor": 0
      },
      "text/plain": [
       "FloatProgress(value=0.0, bar_style='info', description='Progress:', layout=Layout(height='25px', width='50%'),…"
      ]
     },
     "metadata": {},
     "output_type": "display_data"
    },
    {
     "name": "stdout",
     "output_type": "stream",
     "text": [
      "[6956, 65156, 45200, 2160830, 3963056, 1515269, 204561, 1533418, 110463, 1165, 72614, 321190, 136564, 3555, 99982, 12438, 36688, 4724, 52329, 158176, 6494512, 120032, 8768, 32669, 388405, 50960, 34061, 3332, 611758, 16167, 224, 67750, 38376, 821, 48752, 49638, 121982, 52314, 120865, 36861, 1491, 29376, 3359, 62005, 2479807, 117564, 373034, 313077, 1283, 7264, 32867, 500415, 51114, 13233, 704929, 811805, 17424, 60654, 10687, 2450530, 88098, 3175300, 1767339, 274373, 1281, 33543, 538, 11301229, 176, 1077988, 18015, 11830, 13870, 96293, 271666, 13462, 126129, 31693, 90544, 90389, 190765, 18150, 77107, 10953, 7916, 215161, 50482, 658168, 14, 36256, 1032, 128879, 2655993, 140268, 30797, 1416068, 11757, 19964, 7574328, 223629, 3345746, 291234, 16882, 754529, 970, 619803, 33799, 223237, 821791, 539578, 37238, 4909631, 3849311, 255538, 238924, 412661, 82780, 10796, 30983, 1756, 29358, 8614, 234963, 17683, 228782, 24177, 10292, 86755, 286274, 5050872, 1, 445222, 4726736, 107524, 144033, 549, 243789, 82654, 292380, 12020931, 903049, 3, 1, 729, 3267, 38198, 1489405, 858843, 535, 1907481, 1, 13206, 3321, 9538, 2175516, 20696, 5017553, 314870, 11507, 190948, 3075, 103459, 4208, 38928, 22347, 746024, 10792, 1763238, 5691, 2452800, 3497, 160035, 3760, 182620, 773869, 32306, 6469, 113392, 106374, 113491, 125481, 795411, 295383, 616, 5439, 250, 14122, 16947, 4963972, 24889, 991877, 222141, 100288, 146589, 3766990, 2231204, 23123, 13770, 34705, 10837, 63341, 154856, 44754, 67559, 105831, 3674482, 12991, 2179765, 490043, 104450, 104934, 49466, 3, 536, 4162413, 1516744, 91119, 9198, 99886, 1195884, 152005, 20439, 99705, 13886, 2685164, 27165, 5073589, 1878092, 716632, 31621, 15335, 1505305, 32414, 6308, 79644, 7192, 106668, 14303, 755060, 1108, 2228414, 871491, 5251, 1400946, 108684, 22267, 780, 150900, 5400340, 295728, 3188, 131951, 1476, 25003, 28013, 12597, 27825, 951107, 44582, 53915, 963503, 140728, 35527, 370458, 227901, 961052, 10562404, 2026, 290913, 71551, 43946, 22322, 15177, 344209, 855373, 2194328, 138860, 680182, 26373, 32342, 964715, 3601896, 68004, 3213, 43168, 408987, 20600, 353376, 5, 1962984, 124304, 442028, 26130, 796, 2866765, 5491596, 1495, 41636, 20725, 896015, 35285, 44086, 375, 50211, 279078, 12501, 4151167, 2506, 3692, 308513, 16397, 94487, 36862, 41496, 20884, 27253, 2, 92, 69718, 7, 444282, 84894, 13231, 721254, 36491, 310789, 49305, 243504, 35906, 23539, 128376, 108807, 2049905, 4, 533, 133098, 163362, 172177, 2097, 17321, 6169795, 3675204, 1445987, 161553, 3601, 22564, 2]"
     ]
    }
   ],
   "source": [
    "### Q.3.1\n",
    "dfin = df.groupby(\"Origin\").count()\n",
    "dfout = df.groupby(\"Dest\").count()\n",
    "\n",
    "pair = (dfin.rdd+dfout.rdd).reduceByKey(add).collect()\n",
    "value = [v for (k,v) in pair]\n",
    "print(value)"
   ]
  },
  {
   "cell_type": "code",
   "execution_count": 32,
   "id": "82d6dee6",
   "metadata": {},
   "outputs": [],
   "source": [
    "### Q.3.2 ####\n",
    "df1 = df.filter((F.lpad(df[\"CRSDepTime\"],4,\"0\")<\"1200\") & (F.col(\"FlightDate\").substr(1,4)==\"2008\")) \\\n",
    "    .select(df[\"Origin\"], df[\"Dest\"], F.concat(F.col('UniqueCarrier'),F.lit(\" \"),F.col('FlightNum')).alias(\"Flight\"), \\\n",
    "            df[\"ArrDelay\"], F.to_timestamp(F.concat(F.col(\"FlightDate\"),F.lpad(df[\"CRSDepTime\"],4,\"0\")), \"yyyy-MM-ddHHmm\").alias(\"CRSDep\"), \\\n",
    "            F.to_date(F.col(\"FlightDate\"), \"yyyy-MM-dd\").alias(\"Date\"))\n",
    "            \n",
    "window = Window.partitionBy(df1[\"Origin\"],df1[\"Dest\"],df1[\"Date\"]).orderBy(F.col(\"ArrDelay\").cast(\"float\"))\n",
    "df1x = df1.select(\"*\", F.rank().over(window).alias(\"rank\")).filter(F.col(\"rank\")<=1)\n",
    "\n",
    "for cname in df1x.columns:\n",
    "     df1x = df1x.withColumnRenamed(cname,\"l_\"+cname)\n",
    "        \n",
    "\n",
    "        \n",
    "df2 = df.filter((F.lpad(df[\"CRSDepTime\"],4,\"0\")>\"1200\") & (F.col(\"FlightDate\").substr(1,4)==\"2008\")) \\\n",
    "    .select(df[\"Origin\"], df[\"Dest\"], F.concat(F.col('UniqueCarrier'),F.lit(\" \"),F.col('FlightNum')).alias(\"Flight\"), \\\n",
    "            df[\"ArrDelay\"], F.to_timestamp(F.concat(F.col(\"FlightDate\"),F.lpad(df[\"CRSDepTime\"],4,\"0\")), \"yyyy-MM-ddHHmm\").alias(\"CRSDep\"), \\\n",
    "            F.to_date(F.col(\"FlightDate\"), \"yyyy-MM-dd\").alias(\"Date\"))\n",
    "window = Window.partitionBy(df2[\"Origin\"],df2[\"Dest\"],df2[\"Date\"]).orderBy(F.col(\"ArrDelay\").cast(\"float\"))\n",
    "df2x = df2.select(\"*\", F.rank().over(window).alias(\"rank\")).filter(F.col(\"rank\")<=1)\n",
    "\n",
    "for cname in df2x.columns:\n",
    "     df2x = df2x.withColumnRenamed(cname,\"r_\"+cname)\n",
    "\n",
    "cond = [F.col(\"l_Dest\")==F.col(\"r_Origin\"), F.datediff(F.col(\"r_CRSDep\"), F.col(\"l_CRSDep\"))==2]\n",
    "dfjoin = df1x.join(df2x, cond)\n",
    "\n",
    "df3 = dfjoin.select(\"l_Origin\", \"l_Dest\",\"l_Flight\", \\\n",
    "                      F.date_format(F.col(\"l_CRSDep\"),\"HH:mm dd/MM/yyyy\").alias(\"l_CRSDep\"), \\\n",
    "                      \"l_ArrDelay\", \"r_Origin\", \"r_Dest\",\"r_Flight\", \\\n",
    "                      F.date_format(F.col(\"r_CRSDep\"),\"HH:mm dd/MM/yyyy\").alias(\"r_CRSDep\"), \\\n",
    "                      \"r_ArrDelay\", \\\n",
    "                     (F.col(\"l_ArrDelay\")+F.col(\"r_ArrDelay\")).alias(\"TotDelay\"))"
   ]
  },
  {
   "cell_type": "code",
   "execution_count": 39,
   "id": "0ad9e6fa",
   "metadata": {},
   "outputs": [
    {
     "data": {
      "application/vnd.jupyter.widget-view+json": {
       "model_id": "55570a34bc584bd19eb4cb337193d1cd",
       "version_major": 2,
       "version_minor": 0
      },
      "text/plain": [
       "VBox()"
      ]
     },
     "metadata": {},
     "output_type": "display_data"
    },
    {
     "data": {
      "application/vnd.jupyter.widget-view+json": {
       "model_id": "",
       "version_major": 2,
       "version_minor": 0
      },
      "text/plain": [
       "FloatProgress(value=0.0, bar_style='info', description='Progress:', layout=Layout(height='25px', width='50%'),…"
      ]
     },
     "metadata": {},
     "output_type": "display_data"
    },
    {
     "name": "stdout",
     "output_type": "stream",
     "text": [
      "+--------+------+--------+----------------+----------+--------+------+--------+----------------+----------+--------+\n",
      "|l_Origin|l_Dest|l_Flight|        l_CRSDep|l_ArrDelay|r_Origin|r_Dest|r_Flight|        r_CRSDep|r_ArrDelay|TotDelay|\n",
      "+--------+------+--------+----------------+----------+--------+------+--------+----------------+----------+--------+\n",
      "|     ANC|   DLG|  AS 164|09:44 24/08/2008|     -18.0|     DLG|   ANC|  AS 162|17:50 26/08/2008|      65.0|    47.0|\n",
      "|     AUS|   MSY|  XE 519|07:15 22/01/2008|      -5.0|     MSY|   DFW| AA 1153|15:10 24/01/2008|      -9.0|   -14.0|\n",
      "|     AUS|   MSY|  XE 519|07:15 22/01/2008|      -5.0|     MSY|   RDU|  XE 320|17:45 24/01/2008|      50.0|    45.0|\n",
      "|     AUS|   MSY|  XE 519|07:15 22/01/2008|      -5.0|     MSY|   CLT| US 1634|18:25 24/01/2008|      20.0|    15.0|\n",
      "|     AUS|   MSY|  XE 519|07:15 22/01/2008|      -5.0|     MSY|   EWR|  CO 217|14:50 24/01/2008|      -7.0|   -12.0|\n",
      "|     AUS|   MSY|  XE 519|07:15 22/01/2008|      -5.0|     MSY|   JFK|  B6 120|18:10 24/01/2008|     -17.0|   -22.0|\n",
      "|     AUS|   MSY|  XE 519|07:15 22/01/2008|      -5.0|     MSY|   DEN| UA 1469|18:00 24/01/2008|      10.0|     5.0|\n",
      "|     AUS|   MSY|  XE 519|07:15 22/01/2008|      -5.0|     MSY|   PHL| US 1154|13:00 24/01/2008|      -7.0|   -12.0|\n",
      "|     AUS|   MSY|  XE 519|07:15 22/01/2008|      -5.0|     MSY|   ATL| DL 1159|14:25 24/01/2008|      -7.0|   -12.0|\n",
      "|     AUS|   MSY|  XE 519|07:15 22/01/2008|      -5.0|     MSY|   MIA|  AA 526|12:45 24/01/2008|      11.0|     6.0|\n",
      "|     AUS|   MSY|  XE 519|07:15 22/01/2008|      -5.0|     MSY|   LAX| UA 1623|16:55 24/01/2008|      14.0|     9.0|\n",
      "|     AUS|   MSY|  XE 519|07:15 22/01/2008|      -5.0|     MSY|   ORD| AA 1696|17:00 24/01/2008|      54.0|    49.0|\n",
      "|     AUS|   MSY|  XE 519|07:15 22/01/2008|      -5.0|     MSY|   LGA|  AA 462|14:10 24/01/2008|     -21.0|   -26.0|\n",
      "|     AUS|   MSY|  XE 519|07:15 22/01/2008|      -5.0|     MSY|   MEM|  NW 934|16:00 24/01/2008|       1.0|    -4.0|\n",
      "|     AUS|   MSY|  XE 519|07:15 22/01/2008|      -5.0|     MSY|   IAD|  UA 312|12:36 24/01/2008|     -18.0|   -23.0|\n",
      "|     AUS|   MSY|  XE 519|07:15 22/01/2008|      -5.0|     MSY|   MCO| WN 1404|19:50 24/01/2008|      -9.0|   -14.0|\n",
      "|     AUS|   MSY|  XE 519|07:15 22/01/2008|      -5.0|     MSY|   BHM|  WN 217|19:35 24/01/2008|     -18.0|   -23.0|\n",
      "|     AUS|   MSY|  XE 519|07:15 22/01/2008|      -5.0|     MSY|   DAL| WN 1360|17:35 24/01/2008|     -10.0|   -15.0|\n",
      "|     AUS|   MSY|  XE 519|07:15 22/01/2008|      -5.0|     MSY|   MCI|  XE 555|15:30 24/01/2008|      -6.0|   -11.0|\n",
      "|     AUS|   MSY|  XE 519|07:15 22/01/2008|      -5.0|     MSY|   HOU|  WN 224|19:45 24/01/2008|      -7.0|   -12.0|\n",
      "+--------+------+--------+----------------+----------+--------+------+--------+----------------+----------+--------+\n",
      "only showing top 20 rows"
     ]
    }
   ],
   "source": [
    "df3.show()"
   ]
  },
  {
   "cell_type": "code",
   "execution_count": 38,
   "id": "4100588a",
   "metadata": {},
   "outputs": [
    {
     "data": {
      "application/vnd.jupyter.widget-view+json": {
       "model_id": "826e0b4dd5cd4301bec91268248cf4c1",
       "version_major": 2,
       "version_minor": 0
      },
      "text/plain": [
       "VBox()"
      ]
     },
     "metadata": {},
     "output_type": "display_data"
    },
    {
     "data": {
      "application/vnd.jupyter.widget-view+json": {
       "model_id": "",
       "version_major": 2,
       "version_minor": 0
      },
      "text/plain": [
       "FloatProgress(value=0.0, bar_style='info', description='Progress:', layout=Layout(height='25px', width='50%'),…"
      ]
     },
     "metadata": {},
     "output_type": "display_data"
    },
    {
     "name": "stdout",
     "output_type": "stream",
     "text": [
      "+--------+------+--------+----------------+----------+--------+------+--------+----------------+----------+--------+\n",
      "|l_Origin|l_Dest|l_Flight|        l_CRSDep|l_ArrDelay|r_Origin|r_Dest|r_Flight|        r_CRSDep|r_ArrDelay|TotDelay|\n",
      "+--------+------+--------+----------------+----------+--------+------+--------+----------------+----------+--------+\n",
      "|     CMI|   ORD| MQ 4278|07:10 04/03/2008|     -14.0|     ORD|   LAX|  AA 607|19:50 06/03/2008|     -24.0|   -38.0|\n",
      "+--------+------+--------+----------------+----------+--------+------+--------+----------------+----------+--------+"
     ]
    }
   ],
   "source": [
    "df3.where(\"l_Origin=='CMI' and l_Dest=='ORD' and r_Dest=='LAX' and l_CRSDep LIKE '%04/03/2008%'\").show()"
   ]
  },
  {
   "cell_type": "code",
   "execution_count": 29,
   "id": "fceaaddc",
   "metadata": {},
   "outputs": [
    {
     "data": {
      "application/vnd.jupyter.widget-view+json": {
       "model_id": "9ebc5aa2359a4cfea933e86b14d0045f",
       "version_major": 2,
       "version_minor": 0
      },
      "text/plain": [
       "VBox()"
      ]
     },
     "metadata": {},
     "output_type": "display_data"
    },
    {
     "data": {
      "application/vnd.jupyter.widget-view+json": {
       "model_id": "",
       "version_major": 2,
       "version_minor": 0
      },
      "text/plain": [
       "FloatProgress(value=0.0, bar_style='info', description='Progress:', layout=Layout(height='25px', width='50%'),…"
      ]
     },
     "metadata": {},
     "output_type": "display_data"
    },
    {
     "name": "stdout",
     "output_type": "stream",
     "text": [
      "+--------+------+--------+--------+----------+--------+------+--------+--------+----------+--------+\n",
      "|l_Origin|l_Dest|l_Flight|l_CRSDep|l_ArrDelay|r_Origin|r_Dest|r_Flight|r_CRSDep|r_ArrDelay|TotDelay|\n",
      "+--------+------+--------+--------+----------+--------+------+--------+--------+----------+--------+\n",
      "+--------+------+--------+--------+----------+--------+------+--------+--------+----------+--------+"
     ]
    }
   ],
   "source": [
    "df3.where(\"l_Flight=='MQ 4278' and l_CRSDep=='07:10 04/03/2008' and r_Flight=='AA 607'\").show()"
   ]
  },
  {
   "cell_type": "code",
   "execution_count": 4,
   "id": "5ed7fc86",
   "metadata": {},
   "outputs": [
    {
     "data": {
      "application/vnd.jupyter.widget-view+json": {
       "model_id": "bd6f97576b5846b2bcb6604fc5014c64",
       "version_major": 2,
       "version_minor": 0
      },
      "text/plain": [
       "VBox()"
      ]
     },
     "metadata": {},
     "output_type": "display_data"
    },
    {
     "data": {
      "application/vnd.jupyter.widget-view+json": {
       "model_id": "",
       "version_major": 2,
       "version_minor": 0
      },
      "text/plain": [
       "FloatProgress(value=0.0, bar_style='info', description='Progress:', layout=Layout(height='25px', width='50%'),…"
      ]
     },
     "metadata": {},
     "output_type": "display_data"
    },
    {
     "name": "stdout",
     "output_type": "stream",
     "text": [
      "+--------+------+--------+----------------+----------+--------+------+--------+----------------+----------+--------+\n",
      "|l_Origin|l_Dest|l_Flight|        l_CRSDep|l_ArrDelay|r_Origin|r_Dest|r_Flight|        r_CRSDep|r_ArrDelay|TotDelay|\n",
      "+--------+------+--------+----------------+----------+--------+------+--------+----------------+----------+--------+\n",
      "|     JAX|   DFW|  AA 845|07:25 09/09/2008|       1.0|     DFW|   CRP| MQ 3627|16:45 11/09/2008|      -7.0|    -6.0|\n",
      "+--------+------+--------+----------------+----------+--------+------+--------+----------------+----------+--------+"
     ]
    }
   ],
   "source": [
    "df3.where(\"l_Flight=='AA 845' and l_CRSDep=='07:25 09/09/2008' and r_Flight=='MQ 3627'\").show()"
   ]
  },
  {
   "cell_type": "code",
   "execution_count": 5,
   "id": "a979ccd7",
   "metadata": {},
   "outputs": [
    {
     "data": {
      "application/vnd.jupyter.widget-view+json": {
       "model_id": "650c6bfe719d49a8af9dbc5f3d5a76e8",
       "version_major": 2,
       "version_minor": 0
      },
      "text/plain": [
       "VBox()"
      ]
     },
     "metadata": {},
     "output_type": "display_data"
    },
    {
     "data": {
      "application/vnd.jupyter.widget-view+json": {
       "model_id": "",
       "version_major": 2,
       "version_minor": 0
      },
      "text/plain": [
       "FloatProgress(value=0.0, bar_style='info', description='Progress:', layout=Layout(height='25px', width='50%'),…"
      ]
     },
     "metadata": {},
     "output_type": "display_data"
    },
    {
     "name": "stdout",
     "output_type": "stream",
     "text": [
      "+--------+------+--------+----------------+----------+--------+------+--------+----------------+----------+--------+\n",
      "|l_Origin|l_Dest|l_Flight|        l_CRSDep|l_ArrDelay|r_Origin|r_Dest|r_Flight|        r_CRSDep|r_ArrDelay|TotDelay|\n",
      "+--------+------+--------+----------------+----------+--------+------+--------+----------------+----------+--------+\n",
      "|     SLC|   BFL| OO 3755|11:00 01/04/2008|      12.0|     BFL|   LAX| OO 5429|14:55 03/04/2008|       6.0|    18.0|\n",
      "+--------+------+--------+----------------+----------+--------+------+--------+----------------+----------+--------+"
     ]
    }
   ],
   "source": [
    "df3.where(\"l_Flight=='OO 3755' and l_CRSDep=='11:00 01/04/2008' and r_Flight=='OO 5429'\").show()"
   ]
  },
  {
   "cell_type": "code",
   "execution_count": 6,
   "id": "24f337e8",
   "metadata": {},
   "outputs": [
    {
     "data": {
      "application/vnd.jupyter.widget-view+json": {
       "model_id": "093691ef085740a3b77911dea0fb9b38",
       "version_major": 2,
       "version_minor": 0
      },
      "text/plain": [
       "VBox()"
      ]
     },
     "metadata": {},
     "output_type": "display_data"
    },
    {
     "data": {
      "application/vnd.jupyter.widget-view+json": {
       "model_id": "",
       "version_major": 2,
       "version_minor": 0
      },
      "text/plain": [
       "FloatProgress(value=0.0, bar_style='info', description='Progress:', layout=Layout(height='25px', width='50%'),…"
      ]
     },
     "metadata": {},
     "output_type": "display_data"
    },
    {
     "name": "stdout",
     "output_type": "stream",
     "text": [
      "+--------+------+--------+----------------+----------+--------+------+--------+----------------+----------+--------+\n",
      "|l_Origin|l_Dest|l_Flight|        l_CRSDep|l_ArrDelay|r_Origin|r_Dest|r_Flight|        r_CRSDep|r_ArrDelay|TotDelay|\n",
      "+--------+------+--------+----------------+----------+--------+------+--------+----------------+----------+--------+\n",
      "|     LAX|   SFO| WN 3534|06:50 12/07/2008|     -13.0|     SFO|   PHX|  US 412|19:25 14/07/2008|     -19.0|   -32.0|\n",
      "+--------+------+--------+----------------+----------+--------+------+--------+----------------+----------+--------+"
     ]
    }
   ],
   "source": [
    "df3.where(\"l_Flight=='WN 3534' and l_CRSDep=='06:50 12/07/2008' and r_Flight=='US 412'\").show()"
   ]
  },
  {
   "cell_type": "code",
   "execution_count": 11,
   "id": "1235b46c",
   "metadata": {},
   "outputs": [
    {
     "data": {
      "application/vnd.jupyter.widget-view+json": {
       "model_id": "0f8d3ffc72ef40d59365dd602cc11369",
       "version_major": 2,
       "version_minor": 0
      },
      "text/plain": [
       "VBox()"
      ]
     },
     "metadata": {},
     "output_type": "display_data"
    },
    {
     "data": {
      "application/vnd.jupyter.widget-view+json": {
       "model_id": "",
       "version_major": 2,
       "version_minor": 0
      },
      "text/plain": [
       "FloatProgress(value=0.0, bar_style='info', description='Progress:', layout=Layout(height='25px', width='50%'),…"
      ]
     },
     "metadata": {},
     "output_type": "display_data"
    },
    {
     "name": "stdout",
     "output_type": "stream",
     "text": [
      "+--------+------+--------+----------------+----------+--------+------+--------+----------------+----------+--------+\n",
      "|l_Origin|l_Dest|l_Flight|        l_CRSDep|l_ArrDelay|r_Origin|r_Dest|r_Flight|        r_CRSDep|r_ArrDelay|TotDelay|\n",
      "+--------+------+--------+----------------+----------+--------+------+--------+----------------+----------+--------+\n",
      "|     DFW|   ORD| UA 1104|07:00 10/06/2008|     -21.0|     ORD|   DFW| AA 2341|16:45 12/06/2008|     -10.0|   -31.0|\n",
      "|     DFW|   ORD| AA 2324|07:00 10/06/2008|       6.0|     ORD|   DFW| AA 2341|16:45 12/06/2008|     -10.0|    -4.0|\n",
      "+--------+------+--------+----------------+----------+--------+------+--------+----------------+----------+--------+"
     ]
    }
   ],
   "source": [
    "df3.where(\"l_Origin='DFW' and l_CRSDep=='07:00 10/06/2008' and r_Flight=='AA 2341'\").show()"
   ]
  },
  {
   "cell_type": "code",
   "execution_count": 8,
   "id": "80c6399b",
   "metadata": {},
   "outputs": [
    {
     "data": {
      "application/vnd.jupyter.widget-view+json": {
       "model_id": "86fd8e5810f940aaa7697d66d3ba089a",
       "version_major": 2,
       "version_minor": 0
      },
      "text/plain": [
       "VBox()"
      ]
     },
     "metadata": {},
     "output_type": "display_data"
    },
    {
     "data": {
      "application/vnd.jupyter.widget-view+json": {
       "model_id": "",
       "version_major": 2,
       "version_minor": 0
      },
      "text/plain": [
       "FloatProgress(value=0.0, bar_style='info', description='Progress:', layout=Layout(height='25px', width='50%'),…"
      ]
     },
     "metadata": {},
     "output_type": "display_data"
    },
    {
     "name": "stdout",
     "output_type": "stream",
     "text": [
      "+--------+------+--------+----------------+----------+--------+------+--------+----------------+----------+--------+\n",
      "|l_Origin|l_Dest|l_Flight|        l_CRSDep|l_ArrDelay|r_Origin|r_Dest|r_Flight|        r_CRSDep|r_ArrDelay|TotDelay|\n",
      "+--------+------+--------+----------------+----------+--------+------+--------+----------------+----------+--------+\n",
      "|     LAX|   ORD|  UA 944|07:05 01/01/2008|       1.0|     ORD|   JFK|  B6 918|19:00 03/01/2008|      -7.0|    -6.0|\n",
      "+--------+------+--------+----------------+----------+--------+------+--------+----------------+----------+--------+"
     ]
    }
   ],
   "source": [
    "df3.where(\"l_Flight=='UA 944' and l_CRSDep=='07:05 01/01/2008' and r_Flight=='B6 918'\").show()"
   ]
  },
  {
   "cell_type": "code",
   "execution_count": 14,
   "id": "82a467ae",
   "metadata": {},
   "outputs": [
    {
     "data": {
      "application/vnd.jupyter.widget-view+json": {
       "model_id": "41ee3bc4eab24aebb49698bbe88aac3b",
       "version_major": 2,
       "version_minor": 0
      },
      "text/plain": [
       "VBox()"
      ]
     },
     "metadata": {},
     "output_type": "display_data"
    },
    {
     "data": {
      "application/vnd.jupyter.widget-view+json": {
       "model_id": "",
       "version_major": 2,
       "version_minor": 0
      },
      "text/plain": [
       "FloatProgress(value=0.0, bar_style='info', description='Progress:', layout=Layout(height='25px', width='50%'),…"
      ]
     },
     "metadata": {},
     "output_type": "display_data"
    },
    {
     "name": "stdout",
     "output_type": "stream",
     "text": [
      "\n",
      "+--------+------+--------+----------------+----------+--------+------+--------+----------------+----------+--------+\n",
      "|l_Origin|l_Dest|l_Flight|        l_CRSDep|l_ArrDelay|r_Origin|r_Dest|r_Flight|        r_CRSDep|r_ArrDelay|TotDelay|\n",
      "+--------+------+--------+----------------+----------+--------+------+--------+----------------+----------+--------+\n",
      "|     CMI|   ORD| MQ 4278|07:10 04/03/2008|     -14.0|     ORD|   LAX|  AA 607|19:50 06/03/2008|     -24.0|   -38.0|\n",
      "|     JAX|   DFW|  AA 845|07:25 09/09/2008|       1.0|     DFW|   CRP| MQ 3627|16:45 11/09/2008|      -7.0|    -6.0|\n",
      "|     SLC|   BFL| OO 3755|11:00 01/04/2008|      12.0|     BFL|   LAX| OO 5429|14:55 03/04/2008|       6.0|    18.0|\n",
      "|     LAX|   SFO| WN 3534|06:50 12/07/2008|     -13.0|     SFO|   PHX|  US 412|19:25 14/07/2008|     -19.0|   -32.0|\n",
      "|     DFW|   ORD| UA 1104|07:00 10/06/2008|     -21.0|     ORD|   DFW| AA 2341|16:45 12/06/2008|     -10.0|   -31.0|\n",
      "|     LAX|   ORD|  UA 944|07:05 01/01/2008|       1.0|     ORD|   JFK|  B6 918|19:00 03/01/2008|      -7.0|    -6.0|\n",
      "+--------+------+--------+----------------+----------+--------+------+--------+----------------+----------+--------+"
     ]
    }
   ],
   "source": [
    "print(\"\"\"\n",
    "+--------+------+--------+----------------+----------+--------+------+--------+----------------+----------+--------+\n",
    "|l_Origin|l_Dest|l_Flight|        l_CRSDep|l_ArrDelay|r_Origin|r_Dest|r_Flight|        r_CRSDep|r_ArrDelay|TotDelay|\n",
    "+--------+------+--------+----------------+----------+--------+------+--------+----------------+----------+--------+\n",
    "|     CMI|   ORD| MQ 4278|07:10 04/03/2008|     -14.0|     ORD|   LAX|  AA 607|19:50 06/03/2008|     -24.0|   -38.0|\n",
    "|     JAX|   DFW|  AA 845|07:25 09/09/2008|       1.0|     DFW|   CRP| MQ 3627|16:45 11/09/2008|      -7.0|    -6.0|\n",
    "|     SLC|   BFL| OO 3755|11:00 01/04/2008|      12.0|     BFL|   LAX| OO 5429|14:55 03/04/2008|       6.0|    18.0|\n",
    "|     LAX|   SFO| WN 3534|06:50 12/07/2008|     -13.0|     SFO|   PHX|  US 412|19:25 14/07/2008|     -19.0|   -32.0|\n",
    "|     DFW|   ORD| UA 1104|07:00 10/06/2008|     -21.0|     ORD|   DFW| AA 2341|16:45 12/06/2008|     -10.0|   -31.0|\n",
    "|     LAX|   ORD|  UA 944|07:05 01/01/2008|       1.0|     ORD|   JFK|  B6 918|19:00 03/01/2008|      -7.0|    -6.0|\n",
    "+--------+------+--------+----------------+----------+--------+------+--------+----------------+----------+--------+\n",
    "\"\"\")"
   ]
  },
  {
   "cell_type": "code",
   "execution_count": 18,
   "id": "0d1aa6a7",
   "metadata": {},
   "outputs": [
    {
     "data": {
      "application/vnd.jupyter.widget-view+json": {
       "model_id": "da53ff76606247c399eab1c3e7f0e10c",
       "version_major": 2,
       "version_minor": 0
      },
      "text/plain": [
       "VBox()"
      ]
     },
     "metadata": {},
     "output_type": "display_data"
    },
    {
     "data": {
      "application/vnd.jupyter.widget-view+json": {
       "model_id": "316689fe88904422aad8e848409dbbae",
       "version_major": 2,
       "version_minor": 0
      },
      "text/plain": [
       "FloatProgress(value=0.0, bar_style='info', description='Progress:', layout=Layout(height='25px', width='50%'),…"
      ]
     },
     "metadata": {},
     "output_type": "display_data"
    },
    {
     "ename": "KeyboardInterrupt",
     "evalue": "",
     "output_type": "error",
     "traceback": [
      "\u001b[0;31m---------------------------------------------------------------------------\u001b[0m",
      "\u001b[0;31mKeyboardInterrupt\u001b[0m                         Traceback (most recent call last)",
      "\u001b[0;32m<ipython-input-18-91cd25307337>\u001b[0m in \u001b[0;36m<module>\u001b[0;34m\u001b[0m\n\u001b[0;32m----> 1\u001b[0;31m \u001b[0mget_ipython\u001b[0m\u001b[0;34m(\u001b[0m\u001b[0;34m)\u001b[0m\u001b[0;34m.\u001b[0m\u001b[0mrun_cell_magic\u001b[0m\u001b[0;34m(\u001b[0m\u001b[0;34m'spark'\u001b[0m\u001b[0;34m,\u001b[0m \u001b[0;34m''\u001b[0m\u001b[0;34m,\u001b[0m \u001b[0;34m'dfres.where(\"(l_Flight==\\'MQ 4278\\' and l_CRSDep==\\'07:10 04/03/2008\\' and r_Flight==\\'AA 607\\') or \\\\\\n            (l_Flight==\\'AA 845\\' and l_CRSDep==\\'07:25 09/09/2008\\' and r_Flight==\\'MQ 3627\\') or \\\\\\n            (l_Flight==\\'OO 3755\\' and l_CRSDep==\\'11:00 01/04/2008\\' and r_Flight==\\'OO 5429\\') or \\\\\\n            (l_Flight==\\'WN 3534\\' and l_CRSDep==\\'06:50 12/07/2008\\' and r_Flight==\\'US 412\\') or \\\\\\n            (l_Flight==\\'UA 1104\\' and l_CRSDep==\\'07:00 10/06/2008\\' and r_Flight==\\'AA 2341\\') or \\\\\\n            (l_Flight==\\'UA 944\\' and l_CRSDep==\\'07:05 01/01/2008\\' and r_Flight==\\'B6 918\\') or \\\\\\n            \").show()\\n'\u001b[0m\u001b[0;34m)\u001b[0m\u001b[0;34m\u001b[0m\u001b[0;34m\u001b[0m\u001b[0m\n\u001b[0m",
      "\u001b[0;32m/opt/conda/lib/python3.7/site-packages/IPython/core/interactiveshell.py\u001b[0m in \u001b[0;36mrun_cell_magic\u001b[0;34m(self, magic_name, line, cell)\u001b[0m\n\u001b[1;32m   2397\u001b[0m             \u001b[0;32mwith\u001b[0m \u001b[0mself\u001b[0m\u001b[0;34m.\u001b[0m\u001b[0mbuiltin_trap\u001b[0m\u001b[0;34m:\u001b[0m\u001b[0;34m\u001b[0m\u001b[0;34m\u001b[0m\u001b[0m\n\u001b[1;32m   2398\u001b[0m                 \u001b[0margs\u001b[0m \u001b[0;34m=\u001b[0m \u001b[0;34m(\u001b[0m\u001b[0mmagic_arg_s\u001b[0m\u001b[0;34m,\u001b[0m \u001b[0mcell\u001b[0m\u001b[0;34m)\u001b[0m\u001b[0;34m\u001b[0m\u001b[0;34m\u001b[0m\u001b[0m\n\u001b[0;32m-> 2399\u001b[0;31m                 \u001b[0mresult\u001b[0m \u001b[0;34m=\u001b[0m \u001b[0mfn\u001b[0m\u001b[0;34m(\u001b[0m\u001b[0;34m*\u001b[0m\u001b[0margs\u001b[0m\u001b[0;34m,\u001b[0m \u001b[0;34m**\u001b[0m\u001b[0mkwargs\u001b[0m\u001b[0;34m)\u001b[0m\u001b[0;34m\u001b[0m\u001b[0;34m\u001b[0m\u001b[0m\n\u001b[0m\u001b[1;32m   2400\u001b[0m             \u001b[0;32mreturn\u001b[0m \u001b[0mresult\u001b[0m\u001b[0;34m\u001b[0m\u001b[0;34m\u001b[0m\u001b[0m\n\u001b[1;32m   2401\u001b[0m \u001b[0;34m\u001b[0m\u001b[0m\n",
      "\u001b[0;32m/opt/conda/lib/python3.7/site-packages/decorator.py\u001b[0m in \u001b[0;36mfun\u001b[0;34m(*args, **kw)\u001b[0m\n\u001b[1;32m    230\u001b[0m             \u001b[0;32mif\u001b[0m \u001b[0;32mnot\u001b[0m \u001b[0mkwsyntax\u001b[0m\u001b[0;34m:\u001b[0m\u001b[0;34m\u001b[0m\u001b[0;34m\u001b[0m\u001b[0m\n\u001b[1;32m    231\u001b[0m                 \u001b[0margs\u001b[0m\u001b[0;34m,\u001b[0m \u001b[0mkw\u001b[0m \u001b[0;34m=\u001b[0m \u001b[0mfix\u001b[0m\u001b[0;34m(\u001b[0m\u001b[0margs\u001b[0m\u001b[0;34m,\u001b[0m \u001b[0mkw\u001b[0m\u001b[0;34m,\u001b[0m \u001b[0msig\u001b[0m\u001b[0;34m)\u001b[0m\u001b[0;34m\u001b[0m\u001b[0;34m\u001b[0m\u001b[0m\n\u001b[0;32m--> 232\u001b[0;31m             \u001b[0;32mreturn\u001b[0m \u001b[0mcaller\u001b[0m\u001b[0;34m(\u001b[0m\u001b[0mfunc\u001b[0m\u001b[0;34m,\u001b[0m \u001b[0;34m*\u001b[0m\u001b[0;34m(\u001b[0m\u001b[0mextras\u001b[0m \u001b[0;34m+\u001b[0m \u001b[0margs\u001b[0m\u001b[0;34m)\u001b[0m\u001b[0;34m,\u001b[0m \u001b[0;34m**\u001b[0m\u001b[0mkw\u001b[0m\u001b[0;34m)\u001b[0m\u001b[0;34m\u001b[0m\u001b[0;34m\u001b[0m\u001b[0m\n\u001b[0m\u001b[1;32m    233\u001b[0m     \u001b[0mfun\u001b[0m\u001b[0;34m.\u001b[0m\u001b[0m__name__\u001b[0m \u001b[0;34m=\u001b[0m \u001b[0mfunc\u001b[0m\u001b[0;34m.\u001b[0m\u001b[0m__name__\u001b[0m\u001b[0;34m\u001b[0m\u001b[0;34m\u001b[0m\u001b[0m\n\u001b[1;32m    234\u001b[0m     \u001b[0mfun\u001b[0m\u001b[0;34m.\u001b[0m\u001b[0m__doc__\u001b[0m \u001b[0;34m=\u001b[0m \u001b[0mfunc\u001b[0m\u001b[0;34m.\u001b[0m\u001b[0m__doc__\u001b[0m\u001b[0;34m\u001b[0m\u001b[0;34m\u001b[0m\u001b[0m\n",
      "\u001b[0;32m/opt/conda/lib/python3.7/site-packages/IPython/core/magic.py\u001b[0m in \u001b[0;36m<lambda>\u001b[0;34m(f, *a, **k)\u001b[0m\n\u001b[1;32m    185\u001b[0m     \u001b[0;31m# but it's overkill for just that one bit of state.\u001b[0m\u001b[0;34m\u001b[0m\u001b[0;34m\u001b[0m\u001b[0;34m\u001b[0m\u001b[0m\n\u001b[1;32m    186\u001b[0m     \u001b[0;32mdef\u001b[0m \u001b[0mmagic_deco\u001b[0m\u001b[0;34m(\u001b[0m\u001b[0marg\u001b[0m\u001b[0;34m)\u001b[0m\u001b[0;34m:\u001b[0m\u001b[0;34m\u001b[0m\u001b[0;34m\u001b[0m\u001b[0m\n\u001b[0;32m--> 187\u001b[0;31m         \u001b[0mcall\u001b[0m \u001b[0;34m=\u001b[0m \u001b[0;32mlambda\u001b[0m \u001b[0mf\u001b[0m\u001b[0;34m,\u001b[0m \u001b[0;34m*\u001b[0m\u001b[0ma\u001b[0m\u001b[0;34m,\u001b[0m \u001b[0;34m**\u001b[0m\u001b[0mk\u001b[0m\u001b[0;34m:\u001b[0m \u001b[0mf\u001b[0m\u001b[0;34m(\u001b[0m\u001b[0;34m*\u001b[0m\u001b[0ma\u001b[0m\u001b[0;34m,\u001b[0m \u001b[0;34m**\u001b[0m\u001b[0mk\u001b[0m\u001b[0;34m)\u001b[0m\u001b[0;34m\u001b[0m\u001b[0;34m\u001b[0m\u001b[0m\n\u001b[0m\u001b[1;32m    188\u001b[0m \u001b[0;34m\u001b[0m\u001b[0m\n\u001b[1;32m    189\u001b[0m         \u001b[0;32mif\u001b[0m \u001b[0mcallable\u001b[0m\u001b[0;34m(\u001b[0m\u001b[0marg\u001b[0m\u001b[0;34m)\u001b[0m\u001b[0;34m:\u001b[0m\u001b[0;34m\u001b[0m\u001b[0;34m\u001b[0m\u001b[0m\n",
      "\u001b[0;32m/opt/conda/lib/python3.7/site-packages/sparkmagic/livyclientlib/exceptions.py\u001b[0m in \u001b[0;36mwrapped\u001b[0;34m(self, *args, **kwargs)\u001b[0m\n\u001b[1;32m     94\u001b[0m     \u001b[0;32mdef\u001b[0m \u001b[0mwrapped\u001b[0m\u001b[0;34m(\u001b[0m\u001b[0mself\u001b[0m\u001b[0;34m,\u001b[0m \u001b[0;34m*\u001b[0m\u001b[0margs\u001b[0m\u001b[0;34m,\u001b[0m \u001b[0;34m**\u001b[0m\u001b[0mkwargs\u001b[0m\u001b[0;34m)\u001b[0m\u001b[0;34m:\u001b[0m\u001b[0;34m\u001b[0m\u001b[0;34m\u001b[0m\u001b[0m\n\u001b[1;32m     95\u001b[0m         \u001b[0;32mtry\u001b[0m\u001b[0;34m:\u001b[0m\u001b[0;34m\u001b[0m\u001b[0;34m\u001b[0m\u001b[0m\n\u001b[0;32m---> 96\u001b[0;31m             \u001b[0mout\u001b[0m \u001b[0;34m=\u001b[0m \u001b[0mf\u001b[0m\u001b[0;34m(\u001b[0m\u001b[0mself\u001b[0m\u001b[0;34m,\u001b[0m \u001b[0;34m*\u001b[0m\u001b[0margs\u001b[0m\u001b[0;34m,\u001b[0m \u001b[0;34m**\u001b[0m\u001b[0mkwargs\u001b[0m\u001b[0;34m)\u001b[0m\u001b[0;34m\u001b[0m\u001b[0;34m\u001b[0m\u001b[0m\n\u001b[0m\u001b[1;32m     97\u001b[0m         \u001b[0;32mexcept\u001b[0m \u001b[0mException\u001b[0m \u001b[0;32mas\u001b[0m \u001b[0me\u001b[0m\u001b[0;34m:\u001b[0m\u001b[0;34m\u001b[0m\u001b[0;34m\u001b[0m\u001b[0m\n\u001b[1;32m     98\u001b[0m             \u001b[0mself\u001b[0m\u001b[0;34m.\u001b[0m\u001b[0mlogger\u001b[0m\u001b[0;34m.\u001b[0m\u001b[0merror\u001b[0m\u001b[0;34m(\u001b[0m\u001b[0;34mu\"ENCOUNTERED AN INTERNAL ERROR: {}\\n\\tTraceback:\\n{}\"\u001b[0m\u001b[0;34m.\u001b[0m\u001b[0mformat\u001b[0m\u001b[0;34m(\u001b[0m\u001b[0me\u001b[0m\u001b[0;34m,\u001b[0m \u001b[0mtraceback\u001b[0m\u001b[0;34m.\u001b[0m\u001b[0mformat_exc\u001b[0m\u001b[0;34m(\u001b[0m\u001b[0;34m)\u001b[0m\u001b[0;34m)\u001b[0m\u001b[0;34m)\u001b[0m\u001b[0;34m\u001b[0m\u001b[0;34m\u001b[0m\u001b[0m\n",
      "\u001b[0;32m/opt/conda/lib/python3.7/site-packages/sparkmagic/livyclientlib/exceptions.py\u001b[0m in \u001b[0;36mwrapped\u001b[0;34m(self, *args, **kwargs)\u001b[0m\n\u001b[1;32m     70\u001b[0m     \u001b[0;32mdef\u001b[0m \u001b[0mwrapped\u001b[0m\u001b[0;34m(\u001b[0m\u001b[0mself\u001b[0m\u001b[0;34m,\u001b[0m \u001b[0;34m*\u001b[0m\u001b[0margs\u001b[0m\u001b[0;34m,\u001b[0m \u001b[0;34m**\u001b[0m\u001b[0mkwargs\u001b[0m\u001b[0;34m)\u001b[0m\u001b[0;34m:\u001b[0m\u001b[0;34m\u001b[0m\u001b[0;34m\u001b[0m\u001b[0m\n\u001b[1;32m     71\u001b[0m         \u001b[0;32mtry\u001b[0m\u001b[0;34m:\u001b[0m\u001b[0;34m\u001b[0m\u001b[0;34m\u001b[0m\u001b[0m\n\u001b[0;32m---> 72\u001b[0;31m             \u001b[0mout\u001b[0m \u001b[0;34m=\u001b[0m \u001b[0mf\u001b[0m\u001b[0;34m(\u001b[0m\u001b[0mself\u001b[0m\u001b[0;34m,\u001b[0m \u001b[0;34m*\u001b[0m\u001b[0margs\u001b[0m\u001b[0;34m,\u001b[0m \u001b[0;34m**\u001b[0m\u001b[0mkwargs\u001b[0m\u001b[0;34m)\u001b[0m\u001b[0;34m\u001b[0m\u001b[0;34m\u001b[0m\u001b[0m\n\u001b[0m\u001b[1;32m     73\u001b[0m         \u001b[0;32mexcept\u001b[0m \u001b[0mexceptions_to_handle\u001b[0m \u001b[0;32mas\u001b[0m \u001b[0merr\u001b[0m\u001b[0;34m:\u001b[0m\u001b[0;34m\u001b[0m\u001b[0;34m\u001b[0m\u001b[0m\n\u001b[1;32m     74\u001b[0m             \u001b[0;31m# Do not log! as some messages may contain private client information\u001b[0m\u001b[0;34m\u001b[0m\u001b[0;34m\u001b[0m\u001b[0;34m\u001b[0m\u001b[0m\n",
      "\u001b[0;32m/opt/conda/lib/python3.7/site-packages/sparkmagic/kernels/kernelmagics.py\u001b[0m in \u001b[0;36mspark\u001b[0;34m(self, line, cell, local_ns)\u001b[0m\n\u001b[1;32m    236\u001b[0m             \u001b[0mcoerce\u001b[0m \u001b[0;34m=\u001b[0m \u001b[0mget_coerce_value\u001b[0m\u001b[0;34m(\u001b[0m\u001b[0margs\u001b[0m\u001b[0;34m.\u001b[0m\u001b[0mcoerce\u001b[0m\u001b[0;34m)\u001b[0m\u001b[0;34m\u001b[0m\u001b[0;34m\u001b[0m\u001b[0m\n\u001b[1;32m    237\u001b[0m \u001b[0;34m\u001b[0m\u001b[0m\n\u001b[0;32m--> 238\u001b[0;31m             \u001b[0mself\u001b[0m\u001b[0;34m.\u001b[0m\u001b[0mexecute_spark\u001b[0m\u001b[0;34m(\u001b[0m\u001b[0mcell\u001b[0m\u001b[0;34m,\u001b[0m \u001b[0margs\u001b[0m\u001b[0;34m.\u001b[0m\u001b[0moutput\u001b[0m\u001b[0;34m,\u001b[0m \u001b[0margs\u001b[0m\u001b[0;34m.\u001b[0m\u001b[0msamplemethod\u001b[0m\u001b[0;34m,\u001b[0m \u001b[0margs\u001b[0m\u001b[0;34m.\u001b[0m\u001b[0mmaxrows\u001b[0m\u001b[0;34m,\u001b[0m \u001b[0margs\u001b[0m\u001b[0;34m.\u001b[0m\u001b[0msamplefraction\u001b[0m\u001b[0;34m,\u001b[0m \u001b[0;32mNone\u001b[0m\u001b[0;34m,\u001b[0m \u001b[0mcoerce\u001b[0m\u001b[0;34m)\u001b[0m\u001b[0;34m\u001b[0m\u001b[0;34m\u001b[0m\u001b[0m\n\u001b[0m\u001b[1;32m    239\u001b[0m         \u001b[0;32melse\u001b[0m\u001b[0;34m:\u001b[0m\u001b[0;34m\u001b[0m\u001b[0;34m\u001b[0m\u001b[0m\n\u001b[1;32m    240\u001b[0m             \u001b[0;32mreturn\u001b[0m\u001b[0;34m\u001b[0m\u001b[0;34m\u001b[0m\u001b[0m\n",
      "\u001b[0;32m/opt/conda/lib/python3.7/site-packages/sparkmagic/magics/sparkmagicsbase.py\u001b[0m in \u001b[0;36mexecute_spark\u001b[0;34m(self, cell, output_var, samplemethod, maxrows, samplefraction, session_name, coerce)\u001b[0m\n\u001b[1;32m     42\u001b[0m \u001b[0;34m\u001b[0m\u001b[0m\n\u001b[1;32m     43\u001b[0m     \u001b[0;32mdef\u001b[0m \u001b[0mexecute_spark\u001b[0m\u001b[0;34m(\u001b[0m\u001b[0mself\u001b[0m\u001b[0;34m,\u001b[0m \u001b[0mcell\u001b[0m\u001b[0;34m,\u001b[0m \u001b[0moutput_var\u001b[0m\u001b[0;34m,\u001b[0m \u001b[0msamplemethod\u001b[0m\u001b[0;34m,\u001b[0m \u001b[0mmaxrows\u001b[0m\u001b[0;34m,\u001b[0m \u001b[0msamplefraction\u001b[0m\u001b[0;34m,\u001b[0m \u001b[0msession_name\u001b[0m\u001b[0;34m,\u001b[0m \u001b[0mcoerce\u001b[0m\u001b[0;34m)\u001b[0m\u001b[0;34m:\u001b[0m\u001b[0;34m\u001b[0m\u001b[0;34m\u001b[0m\u001b[0m\n\u001b[0;32m---> 44\u001b[0;31m         \u001b[0;34m(\u001b[0m\u001b[0msuccess\u001b[0m\u001b[0;34m,\u001b[0m \u001b[0mout\u001b[0m\u001b[0;34m)\u001b[0m \u001b[0;34m=\u001b[0m \u001b[0mself\u001b[0m\u001b[0;34m.\u001b[0m\u001b[0mspark_controller\u001b[0m\u001b[0;34m.\u001b[0m\u001b[0mrun_command\u001b[0m\u001b[0;34m(\u001b[0m\u001b[0mCommand\u001b[0m\u001b[0;34m(\u001b[0m\u001b[0mcell\u001b[0m\u001b[0;34m)\u001b[0m\u001b[0;34m,\u001b[0m \u001b[0msession_name\u001b[0m\u001b[0;34m)\u001b[0m\u001b[0;34m\u001b[0m\u001b[0;34m\u001b[0m\u001b[0m\n\u001b[0m\u001b[1;32m     45\u001b[0m         \u001b[0;32mif\u001b[0m \u001b[0;32mnot\u001b[0m \u001b[0msuccess\u001b[0m\u001b[0;34m:\u001b[0m\u001b[0;34m\u001b[0m\u001b[0;34m\u001b[0m\u001b[0m\n\u001b[1;32m     46\u001b[0m             \u001b[0mself\u001b[0m\u001b[0;34m.\u001b[0m\u001b[0mipython_display\u001b[0m\u001b[0;34m.\u001b[0m\u001b[0msend_error\u001b[0m\u001b[0;34m(\u001b[0m\u001b[0mout\u001b[0m\u001b[0;34m)\u001b[0m\u001b[0;34m\u001b[0m\u001b[0;34m\u001b[0m\u001b[0m\n",
      "\u001b[0;32m/opt/conda/lib/python3.7/site-packages/sparkmagic/livyclientlib/sparkcontroller.py\u001b[0m in \u001b[0;36mrun_command\u001b[0;34m(self, command, client_name)\u001b[0m\n\u001b[1;32m     42\u001b[0m     \u001b[0;32mdef\u001b[0m \u001b[0mrun_command\u001b[0m\u001b[0;34m(\u001b[0m\u001b[0mself\u001b[0m\u001b[0;34m,\u001b[0m \u001b[0mcommand\u001b[0m\u001b[0;34m,\u001b[0m \u001b[0mclient_name\u001b[0m\u001b[0;34m=\u001b[0m\u001b[0;32mNone\u001b[0m\u001b[0;34m)\u001b[0m\u001b[0;34m:\u001b[0m\u001b[0;34m\u001b[0m\u001b[0;34m\u001b[0m\u001b[0m\n\u001b[1;32m     43\u001b[0m         \u001b[0msession_to_use\u001b[0m \u001b[0;34m=\u001b[0m \u001b[0mself\u001b[0m\u001b[0;34m.\u001b[0m\u001b[0mget_session_by_name_or_default\u001b[0m\u001b[0;34m(\u001b[0m\u001b[0mclient_name\u001b[0m\u001b[0;34m)\u001b[0m\u001b[0;34m\u001b[0m\u001b[0;34m\u001b[0m\u001b[0m\n\u001b[0;32m---> 44\u001b[0;31m         \u001b[0;32mreturn\u001b[0m \u001b[0mcommand\u001b[0m\u001b[0;34m.\u001b[0m\u001b[0mexecute\u001b[0m\u001b[0;34m(\u001b[0m\u001b[0msession_to_use\u001b[0m\u001b[0;34m)\u001b[0m\u001b[0;34m\u001b[0m\u001b[0;34m\u001b[0m\u001b[0m\n\u001b[0m\u001b[1;32m     45\u001b[0m \u001b[0;34m\u001b[0m\u001b[0m\n\u001b[1;32m     46\u001b[0m     \u001b[0;32mdef\u001b[0m \u001b[0mrun_sqlquery\u001b[0m\u001b[0;34m(\u001b[0m\u001b[0mself\u001b[0m\u001b[0;34m,\u001b[0m \u001b[0msqlquery\u001b[0m\u001b[0;34m,\u001b[0m \u001b[0mclient_name\u001b[0m\u001b[0;34m=\u001b[0m\u001b[0;32mNone\u001b[0m\u001b[0;34m)\u001b[0m\u001b[0;34m:\u001b[0m\u001b[0;34m\u001b[0m\u001b[0;34m\u001b[0m\u001b[0m\n",
      "\u001b[0;32m/opt/conda/lib/python3.7/site-packages/sparkmagic/livyclientlib/command.py\u001b[0m in \u001b[0;36mexecute\u001b[0;34m(self, session)\u001b[0m\n\u001b[1;32m     41\u001b[0m             \u001b[0mresponse\u001b[0m \u001b[0;34m=\u001b[0m \u001b[0msession\u001b[0m\u001b[0;34m.\u001b[0m\u001b[0mhttp_client\u001b[0m\u001b[0;34m.\u001b[0m\u001b[0mpost_statement\u001b[0m\u001b[0;34m(\u001b[0m\u001b[0msession\u001b[0m\u001b[0;34m.\u001b[0m\u001b[0mid\u001b[0m\u001b[0;34m,\u001b[0m \u001b[0mdata\u001b[0m\u001b[0;34m)\u001b[0m\u001b[0;34m\u001b[0m\u001b[0;34m\u001b[0m\u001b[0m\n\u001b[1;32m     42\u001b[0m             \u001b[0mstatement_id\u001b[0m \u001b[0;34m=\u001b[0m \u001b[0mresponse\u001b[0m\u001b[0;34m[\u001b[0m\u001b[0;34mu'id'\u001b[0m\u001b[0;34m]\u001b[0m\u001b[0;34m\u001b[0m\u001b[0;34m\u001b[0m\u001b[0m\n\u001b[0;32m---> 43\u001b[0;31m             \u001b[0moutput\u001b[0m \u001b[0;34m=\u001b[0m \u001b[0mself\u001b[0m\u001b[0;34m.\u001b[0m\u001b[0m_get_statement_output\u001b[0m\u001b[0;34m(\u001b[0m\u001b[0msession\u001b[0m\u001b[0;34m,\u001b[0m \u001b[0mstatement_id\u001b[0m\u001b[0;34m)\u001b[0m\u001b[0;34m\u001b[0m\u001b[0;34m\u001b[0m\u001b[0m\n\u001b[0m\u001b[1;32m     44\u001b[0m         \u001b[0;32mexcept\u001b[0m \u001b[0mException\u001b[0m \u001b[0;32mas\u001b[0m \u001b[0me\u001b[0m\u001b[0;34m:\u001b[0m\u001b[0;34m\u001b[0m\u001b[0;34m\u001b[0m\u001b[0m\n\u001b[1;32m     45\u001b[0m             self._spark_events.emit_statement_execution_end_event(session.guid, session.kind, session.id,\n",
      "\u001b[0;32m/opt/conda/lib/python3.7/site-packages/sparkmagic/livyclientlib/command.py\u001b[0m in \u001b[0;36m_get_statement_output\u001b[0;34m(self, session, statement_id)\u001b[0m\n\u001b[1;32m     74\u001b[0m             \u001b[0;32mif\u001b[0m \u001b[0mstatus\u001b[0m \u001b[0;32mnot\u001b[0m \u001b[0;32min\u001b[0m \u001b[0mFINAL_STATEMENT_STATUS\u001b[0m\u001b[0;34m:\u001b[0m\u001b[0;34m\u001b[0m\u001b[0;34m\u001b[0m\u001b[0m\n\u001b[1;32m     75\u001b[0m                 \u001b[0mprogress\u001b[0m\u001b[0;34m.\u001b[0m\u001b[0mvalue\u001b[0m \u001b[0;34m=\u001b[0m \u001b[0mstatement\u001b[0m\u001b[0;34m.\u001b[0m\u001b[0mget\u001b[0m\u001b[0;34m(\u001b[0m\u001b[0;34m'progress'\u001b[0m\u001b[0;34m,\u001b[0m \u001b[0;36m0.0\u001b[0m\u001b[0;34m)\u001b[0m\u001b[0;34m\u001b[0m\u001b[0;34m\u001b[0m\u001b[0m\n\u001b[0;32m---> 76\u001b[0;31m                 \u001b[0msession\u001b[0m\u001b[0;34m.\u001b[0m\u001b[0msleep\u001b[0m\u001b[0;34m(\u001b[0m\u001b[0mretries\u001b[0m\u001b[0;34m)\u001b[0m\u001b[0;34m\u001b[0m\u001b[0;34m\u001b[0m\u001b[0m\n\u001b[0m\u001b[1;32m     77\u001b[0m                 \u001b[0mretries\u001b[0m \u001b[0;34m+=\u001b[0m \u001b[0;36m1\u001b[0m\u001b[0;34m\u001b[0m\u001b[0;34m\u001b[0m\u001b[0m\n\u001b[1;32m     78\u001b[0m             \u001b[0;32melse\u001b[0m\u001b[0;34m:\u001b[0m\u001b[0;34m\u001b[0m\u001b[0;34m\u001b[0m\u001b[0m\n",
      "\u001b[0;32m/opt/conda/lib/python3.7/site-packages/sparkmagic/livyclientlib/livysession.py\u001b[0m in \u001b[0;36msleep\u001b[0;34m(self, retries)\u001b[0m\n\u001b[1;32m    280\u001b[0m \u001b[0;34m\u001b[0m\u001b[0m\n\u001b[1;32m    281\u001b[0m     \u001b[0;32mdef\u001b[0m \u001b[0msleep\u001b[0m\u001b[0;34m(\u001b[0m\u001b[0mself\u001b[0m\u001b[0;34m,\u001b[0m \u001b[0mretries\u001b[0m\u001b[0;34m)\u001b[0m\u001b[0;34m:\u001b[0m\u001b[0;34m\u001b[0m\u001b[0;34m\u001b[0m\u001b[0m\n\u001b[0;32m--> 282\u001b[0;31m         \u001b[0msleep\u001b[0m\u001b[0;34m(\u001b[0m\u001b[0mself\u001b[0m\u001b[0;34m.\u001b[0m\u001b[0m_policy\u001b[0m\u001b[0;34m.\u001b[0m\u001b[0mseconds_to_sleep\u001b[0m\u001b[0;34m(\u001b[0m\u001b[0mretries\u001b[0m\u001b[0;34m)\u001b[0m\u001b[0;34m)\u001b[0m\u001b[0;34m\u001b[0m\u001b[0;34m\u001b[0m\u001b[0m\n\u001b[0m\u001b[1;32m    283\u001b[0m \u001b[0;34m\u001b[0m\u001b[0m\n\u001b[1;32m    284\u001b[0m     \u001b[0;31m# This function will refresh the status and get the logs in a single call.\u001b[0m\u001b[0;34m\u001b[0m\u001b[0;34m\u001b[0m\u001b[0;34m\u001b[0m\u001b[0m\n",
      "\u001b[0;31mKeyboardInterrupt\u001b[0m: "
     ]
    }
   ],
   "source": [
    "dfres.where(\"(l_Flight=='MQ 4278' and l_CRSDep=='07:10 04/03/2008' and r_Flight=='AA 607') or \\\n",
    "            (l_Flight=='AA 845' and l_CRSDep=='07:25 09/09/2008' and r_Flight=='MQ 3627') or \\\n",
    "            (l_Flight=='OO 3755' and l_CRSDep=='11:00 01/04/2008' and r_Flight=='OO 5429') or \\\n",
    "            (l_Flight=='WN 3534' and l_CRSDep=='06:50 12/07/2008' and r_Flight=='US 412') or \\\n",
    "            (l_Flight=='UA 1104' and l_CRSDep=='07:00 10/06/2008' and r_Flight=='AA 2341') or \\\n",
    "            (l_Flight=='UA 944' and l_CRSDep=='07:05 01/01/2008' and r_Flight=='B6 918') or \\\n",
    "            \").show()"
   ]
  },
  {
   "cell_type": "code",
   "execution_count": null,
   "id": "60ae2590",
   "metadata": {},
   "outputs": [],
   "source": []
  }
 ],
 "metadata": {
  "kernelspec": {
   "display_name": "PySpark",
   "language": "",
   "name": "pysparkkernel"
  },
  "language_info": {
   "codemirror_mode": {
    "name": "python",
    "version": 2
   },
   "mimetype": "text/x-python",
   "name": "pyspark",
   "pygments_lexer": "python2"
  }
 },
 "nbformat": 4,
 "nbformat_minor": 5
}